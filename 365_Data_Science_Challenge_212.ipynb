{
  "cells": [
    {
      "cell_type": "markdown",
      "metadata": {
        "id": "FUVhOf-D05oa"
      },
      "source": [
        "## 365 data science is an e-learning platform specialized in offering high quality data science courses and Tracks that would take you  from a beginner to a qualified data analyst . 365 data science is a relatively new platform with alot of strong competitors in the same industry , In this project I’m trying to reveal useful data-driven information that would increase the engagement and enrollment rate in the platform , using various analytics , visualizations and statistical tests."
      ]
    },
    {
      "cell_type": "code",
      "execution_count": null,
      "metadata": {
        "id": "scFLZDNM05oh"
      },
      "outputs": [],
      "source": [
        "import pandas as pd\n",
        "import numpy as np\n",
        "import matplotlib.pyplot as plt\n",
        "import seaborn as sns\n",
        "import country_converter as coco\n",
        "from statsmodels.stats.proportion import proportions_ztest, proportion_confint\n",
        "import scipy.stats as stats\n",
        "import statsmodels.stats.api as sms\n",
        "import matplotlib as mpl\n",
        "from math import ceil\n",
        "sns.set_palette(\"Blues\")"
      ]
    },
    {
      "cell_type": "code",
      "execution_count": null,
      "metadata": {
        "id": "y1V8MRb205oi"
      },
      "outputs": [],
      "source": []
    },
    {
      "cell_type": "code",
      "execution_count": null,
      "metadata": {
        "id": "z_y-stBI05oi"
      },
      "outputs": [],
      "source": [
        "df1=pd.read_csv('365_course_ratings.csv')\n",
        "df2=pd.read_csv('365_student_quizzes.csv')\n",
        "df3=pd.read_csv('365_quiz_info.csv')\n",
        "df4=pd.read_csv('365_exam_info.csv')\n",
        "df5=pd.read_csv('365_course_info.csv')\n",
        "df6=pd.read_csv('365_student_purchases.csv')\n",
        "df7=pd.read_csv('365_student_learning.csv')\n",
        "df8=pd.read_csv('365_student_info.csv')\n",
        "df9=pd.read_csv('365_student_hub_questions.csv')\n",
        "df10=pd.read_csv('365_student_engagement.csv')\n",
        "df11=pd.read_csv('365_student_exams.csv')"
      ]
    },
    {
      "cell_type": "code",
      "execution_count": null,
      "metadata": {
        "id": "Sasc8lMs05oj",
        "outputId": "c9cffb86-5b88-4dff-9d1f-55b3554ca265"
      },
      "outputs": [
        {
          "data": {
            "text/html": [
              "<div>\n",
              "<style scoped>\n",
              "    .dataframe tbody tr th:only-of-type {\n",
              "        vertical-align: middle;\n",
              "    }\n",
              "\n",
              "    .dataframe tbody tr th {\n",
              "        vertical-align: top;\n",
              "    }\n",
              "\n",
              "    .dataframe thead th {\n",
              "        text-align: right;\n",
              "    }\n",
              "</style>\n",
              "<table border=\"1\" class=\"dataframe\">\n",
              "  <thead>\n",
              "    <tr style=\"text-align: right;\">\n",
              "      <th></th>\n",
              "      <th>course_id</th>\n",
              "      <th>student_id</th>\n",
              "      <th>course_rating</th>\n",
              "      <th>date_rated</th>\n",
              "    </tr>\n",
              "  </thead>\n",
              "  <tbody>\n",
              "    <tr>\n",
              "      <th>1476</th>\n",
              "      <td>30</td>\n",
              "      <td>282977</td>\n",
              "      <td>5</td>\n",
              "      <td>2022-10-15</td>\n",
              "    </tr>\n",
              "  </tbody>\n",
              "</table>\n",
              "</div>"
            ],
            "text/plain": [
              "      course_id  student_id  course_rating  date_rated\n",
              "1476         30      282977              5  2022-10-15"
            ]
          },
          "execution_count": 3,
          "metadata": {},
          "output_type": "execute_result"
        }
      ],
      "source": [
        "df1.sample(1)"
      ]
    },
    {
      "cell_type": "code",
      "execution_count": null,
      "metadata": {
        "id": "xMTwRHNZ05oj",
        "outputId": "46afd531-09ba-42a7-d74e-688d7db0e634"
      },
      "outputs": [
        {
          "data": {
            "text/html": [
              "<div>\n",
              "<style scoped>\n",
              "    .dataframe tbody tr th:only-of-type {\n",
              "        vertical-align: middle;\n",
              "    }\n",
              "\n",
              "    .dataframe tbody tr th {\n",
              "        vertical-align: top;\n",
              "    }\n",
              "\n",
              "    .dataframe thead th {\n",
              "        text-align: right;\n",
              "    }\n",
              "</style>\n",
              "<table border=\"1\" class=\"dataframe\">\n",
              "  <thead>\n",
              "    <tr style=\"text-align: right;\">\n",
              "      <th></th>\n",
              "      <th>student_id</th>\n",
              "      <th>quiz_id</th>\n",
              "      <th>question_id</th>\n",
              "      <th>answer_id</th>\n",
              "    </tr>\n",
              "  </thead>\n",
              "  <tbody>\n",
              "    <tr>\n",
              "      <th>135755</th>\n",
              "      <td>293461</td>\n",
              "      <td>538</td>\n",
              "      <td>785</td>\n",
              "      <td>3093.0</td>\n",
              "    </tr>\n",
              "  </tbody>\n",
              "</table>\n",
              "</div>"
            ],
            "text/plain": [
              "        student_id  quiz_id  question_id  answer_id\n",
              "135755      293461      538          785     3093.0"
            ]
          },
          "execution_count": 4,
          "metadata": {},
          "output_type": "execute_result"
        }
      ],
      "source": [
        "df2.sample(1)"
      ]
    },
    {
      "cell_type": "code",
      "execution_count": null,
      "metadata": {
        "id": "TUGeVv7a05ok",
        "outputId": "7e529f85-730c-41cc-87e9-ce5ef655dcf1"
      },
      "outputs": [
        {
          "data": {
            "text/html": [
              "<div>\n",
              "<style scoped>\n",
              "    .dataframe tbody tr th:only-of-type {\n",
              "        vertical-align: middle;\n",
              "    }\n",
              "\n",
              "    .dataframe tbody tr th {\n",
              "        vertical-align: top;\n",
              "    }\n",
              "\n",
              "    .dataframe thead th {\n",
              "        text-align: right;\n",
              "    }\n",
              "</style>\n",
              "<table border=\"1\" class=\"dataframe\">\n",
              "  <thead>\n",
              "    <tr style=\"text-align: right;\">\n",
              "      <th></th>\n",
              "      <th>quiz_id</th>\n",
              "      <th>question_id</th>\n",
              "      <th>answer_id</th>\n",
              "      <th>answer_correct</th>\n",
              "    </tr>\n",
              "  </thead>\n",
              "  <tbody>\n",
              "    <tr>\n",
              "      <th>181</th>\n",
              "      <td>31</td>\n",
              "      <td>44</td>\n",
              "      <td>182</td>\n",
              "      <td>y</td>\n",
              "    </tr>\n",
              "  </tbody>\n",
              "</table>\n",
              "</div>"
            ],
            "text/plain": [
              "     quiz_id  question_id  answer_id answer_correct\n",
              "181       31           44        182              y"
            ]
          },
          "execution_count": 5,
          "metadata": {},
          "output_type": "execute_result"
        }
      ],
      "source": [
        "df3.sample(1)"
      ]
    },
    {
      "cell_type": "code",
      "execution_count": null,
      "metadata": {
        "id": "YoU3qDWK05ok",
        "outputId": "602245d3-58a7-4234-c42a-a64fb59c10c2"
      },
      "outputs": [
        {
          "data": {
            "text/html": [
              "<div>\n",
              "<style scoped>\n",
              "    .dataframe tbody tr th:only-of-type {\n",
              "        vertical-align: middle;\n",
              "    }\n",
              "\n",
              "    .dataframe tbody tr th {\n",
              "        vertical-align: top;\n",
              "    }\n",
              "\n",
              "    .dataframe thead th {\n",
              "        text-align: right;\n",
              "    }\n",
              "</style>\n",
              "<table border=\"1\" class=\"dataframe\">\n",
              "  <thead>\n",
              "    <tr style=\"text-align: right;\">\n",
              "      <th></th>\n",
              "      <th>exam_id</th>\n",
              "      <th>exam_category</th>\n",
              "      <th>exam_duration</th>\n",
              "    </tr>\n",
              "  </thead>\n",
              "  <tbody>\n",
              "    <tr>\n",
              "      <th>87</th>\n",
              "      <td>715</td>\n",
              "      <td>1</td>\n",
              "      <td>55</td>\n",
              "    </tr>\n",
              "  </tbody>\n",
              "</table>\n",
              "</div>"
            ],
            "text/plain": [
              "    exam_id  exam_category  exam_duration\n",
              "87      715              1             55"
            ]
          },
          "execution_count": 6,
          "metadata": {},
          "output_type": "execute_result"
        }
      ],
      "source": [
        "df4.sample(1)"
      ]
    },
    {
      "cell_type": "code",
      "execution_count": null,
      "metadata": {
        "id": "vbMiAE2V05ol",
        "outputId": "1df02ab8-2480-4afe-835c-4a454c4011c2"
      },
      "outputs": [
        {
          "data": {
            "text/html": [
              "<div>\n",
              "<style scoped>\n",
              "    .dataframe tbody tr th:only-of-type {\n",
              "        vertical-align: middle;\n",
              "    }\n",
              "\n",
              "    .dataframe tbody tr th {\n",
              "        vertical-align: top;\n",
              "    }\n",
              "\n",
              "    .dataframe thead th {\n",
              "        text-align: right;\n",
              "    }\n",
              "</style>\n",
              "<table border=\"1\" class=\"dataframe\">\n",
              "  <thead>\n",
              "    <tr style=\"text-align: right;\">\n",
              "      <th></th>\n",
              "      <th>course_id</th>\n",
              "      <th>course_title</th>\n",
              "    </tr>\n",
              "  </thead>\n",
              "  <tbody>\n",
              "    <tr>\n",
              "      <th>10</th>\n",
              "      <td>16</td>\n",
              "      <td>Python Programmer Bootcamp</td>\n",
              "    </tr>\n",
              "  </tbody>\n",
              "</table>\n",
              "</div>"
            ],
            "text/plain": [
              "    course_id                course_title\n",
              "10         16  Python Programmer Bootcamp"
            ]
          },
          "execution_count": 7,
          "metadata": {},
          "output_type": "execute_result"
        }
      ],
      "source": [
        "df5.sample(1)"
      ]
    },
    {
      "cell_type": "code",
      "execution_count": null,
      "metadata": {
        "id": "C-VhRPDc05ol",
        "outputId": "ff26814b-143d-4890-ad33-ffb7098b1c0d"
      },
      "outputs": [
        {
          "data": {
            "text/html": [
              "<div>\n",
              "<style scoped>\n",
              "    .dataframe tbody tr th:only-of-type {\n",
              "        vertical-align: middle;\n",
              "    }\n",
              "\n",
              "    .dataframe tbody tr th {\n",
              "        vertical-align: top;\n",
              "    }\n",
              "\n",
              "    .dataframe thead th {\n",
              "        text-align: right;\n",
              "    }\n",
              "</style>\n",
              "<table border=\"1\" class=\"dataframe\">\n",
              "  <thead>\n",
              "    <tr style=\"text-align: right;\">\n",
              "      <th></th>\n",
              "      <th>purchase_id</th>\n",
              "      <th>student_id</th>\n",
              "      <th>purchase_type</th>\n",
              "      <th>date_purchased</th>\n",
              "    </tr>\n",
              "  </thead>\n",
              "  <tbody>\n",
              "    <tr>\n",
              "      <th>1414</th>\n",
              "      <td>19741</td>\n",
              "      <td>274663</td>\n",
              "      <td>Annual</td>\n",
              "      <td>2022-05-31</td>\n",
              "    </tr>\n",
              "  </tbody>\n",
              "</table>\n",
              "</div>"
            ],
            "text/plain": [
              "      purchase_id  student_id purchase_type date_purchased\n",
              "1414        19741      274663        Annual     2022-05-31"
            ]
          },
          "execution_count": 8,
          "metadata": {},
          "output_type": "execute_result"
        }
      ],
      "source": [
        "df6.sample(1)"
      ]
    },
    {
      "cell_type": "code",
      "execution_count": null,
      "metadata": {
        "id": "yol4jHIO05ol",
        "outputId": "fabdfdd3-c916-4790-823a-5acd0ccca37b"
      },
      "outputs": [
        {
          "data": {
            "text/html": [
              "<div>\n",
              "<style scoped>\n",
              "    .dataframe tbody tr th:only-of-type {\n",
              "        vertical-align: middle;\n",
              "    }\n",
              "\n",
              "    .dataframe tbody tr th {\n",
              "        vertical-align: top;\n",
              "    }\n",
              "\n",
              "    .dataframe thead th {\n",
              "        text-align: right;\n",
              "    }\n",
              "</style>\n",
              "<table border=\"1\" class=\"dataframe\">\n",
              "  <thead>\n",
              "    <tr style=\"text-align: right;\">\n",
              "      <th></th>\n",
              "      <th>student_id</th>\n",
              "      <th>course_id</th>\n",
              "      <th>minutes_watched</th>\n",
              "      <th>date_watched</th>\n",
              "    </tr>\n",
              "  </thead>\n",
              "  <tbody>\n",
              "    <tr>\n",
              "      <th>10197</th>\n",
              "      <td>262112</td>\n",
              "      <td>14</td>\n",
              "      <td>3.0</td>\n",
              "      <td>2022-04-29</td>\n",
              "    </tr>\n",
              "  </tbody>\n",
              "</table>\n",
              "</div>"
            ],
            "text/plain": [
              "       student_id  course_id  minutes_watched date_watched\n",
              "10197      262112         14              3.0   2022-04-29"
            ]
          },
          "execution_count": 9,
          "metadata": {},
          "output_type": "execute_result"
        }
      ],
      "source": [
        "df7.sample(1)"
      ]
    },
    {
      "cell_type": "code",
      "execution_count": null,
      "metadata": {
        "id": "RowpDnCZ05om",
        "outputId": "04bfd2d2-afe2-4388-b5a9-734de93405fc"
      },
      "outputs": [
        {
          "data": {
            "text/html": [
              "<div>\n",
              "<style scoped>\n",
              "    .dataframe tbody tr th:only-of-type {\n",
              "        vertical-align: middle;\n",
              "    }\n",
              "\n",
              "    .dataframe tbody tr th {\n",
              "        vertical-align: top;\n",
              "    }\n",
              "\n",
              "    .dataframe thead th {\n",
              "        text-align: right;\n",
              "    }\n",
              "</style>\n",
              "<table border=\"1\" class=\"dataframe\">\n",
              "  <thead>\n",
              "    <tr style=\"text-align: right;\">\n",
              "      <th></th>\n",
              "      <th>student_id</th>\n",
              "      <th>student_country</th>\n",
              "      <th>date_registered</th>\n",
              "    </tr>\n",
              "  </thead>\n",
              "  <tbody>\n",
              "    <tr>\n",
              "      <th>19937</th>\n",
              "      <td>279394</td>\n",
              "      <td>CO</td>\n",
              "      <td>2022-06-27</td>\n",
              "    </tr>\n",
              "  </tbody>\n",
              "</table>\n",
              "</div>"
            ],
            "text/plain": [
              "       student_id student_country date_registered\n",
              "19937      279394              CO      2022-06-27"
            ]
          },
          "execution_count": 10,
          "metadata": {},
          "output_type": "execute_result"
        }
      ],
      "source": [
        "df8.sample(1)"
      ]
    },
    {
      "cell_type": "code",
      "execution_count": null,
      "metadata": {
        "id": "Vt5VHrrr05om",
        "outputId": "19b54e87-c1fa-43e6-c6c4-5d48abb4c43a"
      },
      "outputs": [
        {
          "data": {
            "text/html": [
              "<div>\n",
              "<style scoped>\n",
              "    .dataframe tbody tr th:only-of-type {\n",
              "        vertical-align: middle;\n",
              "    }\n",
              "\n",
              "    .dataframe tbody tr th {\n",
              "        vertical-align: top;\n",
              "    }\n",
              "\n",
              "    .dataframe thead th {\n",
              "        text-align: right;\n",
              "    }\n",
              "</style>\n",
              "<table border=\"1\" class=\"dataframe\">\n",
              "  <thead>\n",
              "    <tr style=\"text-align: right;\">\n",
              "      <th></th>\n",
              "      <th>hub_question_id</th>\n",
              "      <th>student_id</th>\n",
              "      <th>date_question_asked</th>\n",
              "    </tr>\n",
              "  </thead>\n",
              "  <tbody>\n",
              "    <tr>\n",
              "      <th>802</th>\n",
              "      <td>10338</td>\n",
              "      <td>286834</td>\n",
              "      <td>2022-10-15</td>\n",
              "    </tr>\n",
              "  </tbody>\n",
              "</table>\n",
              "</div>"
            ],
            "text/plain": [
              "     hub_question_id  student_id date_question_asked\n",
              "802            10338      286834          2022-10-15"
            ]
          },
          "execution_count": 11,
          "metadata": {},
          "output_type": "execute_result"
        }
      ],
      "source": [
        "df9.sample(1)"
      ]
    },
    {
      "cell_type": "code",
      "execution_count": null,
      "metadata": {
        "id": "ibSlw1rJ05om",
        "outputId": "5fef929e-bab0-4828-f0c5-e856e9646364"
      },
      "outputs": [
        {
          "data": {
            "text/html": [
              "<div>\n",
              "<style scoped>\n",
              "    .dataframe tbody tr th:only-of-type {\n",
              "        vertical-align: middle;\n",
              "    }\n",
              "\n",
              "    .dataframe tbody tr th {\n",
              "        vertical-align: top;\n",
              "    }\n",
              "\n",
              "    .dataframe thead th {\n",
              "        text-align: right;\n",
              "    }\n",
              "</style>\n",
              "<table border=\"1\" class=\"dataframe\">\n",
              "  <thead>\n",
              "    <tr style=\"text-align: right;\">\n",
              "      <th></th>\n",
              "      <th>engagement_id</th>\n",
              "      <th>student_id</th>\n",
              "      <th>engagement_quizzes</th>\n",
              "      <th>engagement_exams</th>\n",
              "      <th>engagement_lessons</th>\n",
              "      <th>date_engaged</th>\n",
              "    </tr>\n",
              "  </thead>\n",
              "  <tbody>\n",
              "    <tr>\n",
              "      <th>3323</th>\n",
              "      <td>114211</td>\n",
              "      <td>262675</td>\n",
              "      <td>1</td>\n",
              "      <td>0</td>\n",
              "      <td>1</td>\n",
              "      <td>2022-02-14</td>\n",
              "    </tr>\n",
              "  </tbody>\n",
              "</table>\n",
              "</div>"
            ],
            "text/plain": [
              "      engagement_id  student_id  engagement_quizzes  engagement_exams  \\\n",
              "3323         114211      262675                   1                 0   \n",
              "\n",
              "      engagement_lessons date_engaged  \n",
              "3323                   1   2022-02-14  "
            ]
          },
          "execution_count": 12,
          "metadata": {},
          "output_type": "execute_result"
        }
      ],
      "source": [
        "df10.sample(1)"
      ]
    },
    {
      "cell_type": "markdown",
      "metadata": {
        "id": "KTpyu8Eg05om"
      },
      "source": [
        "# Unifying Data & EDA"
      ]
    },
    {
      "cell_type": "markdown",
      "metadata": {
        "id": "ePqzss0B05on"
      },
      "source": [
        "### We're starting by unifying the datasets to help us in implementing visualizations, creating the dashboard, and exploring the data efficiently.\n"
      ]
    },
    {
      "cell_type": "code",
      "execution_count": null,
      "metadata": {
        "id": "TjX5tJSd05on"
      },
      "outputs": [],
      "source": [
        "# creating a list of student_ids who purchased , then mapping it to another data frame with Paid or Free values\n",
        "paid_students_id=[]\n",
        "for x in df6['student_id']:\n",
        "    paid_students_id.append(x)\n",
        "    \n",
        "def paid_free(x):\n",
        "    if x in paid_students_id:\n",
        "        return 'Paid'\n",
        "    else:\n",
        "        return 'Free'\n",
        "    \n",
        "df8['Paid']=df8['student_id'].map(paid_free)"
      ]
    },
    {
      "cell_type": "code",
      "execution_count": null,
      "metadata": {
        "id": "ahW4z5ak05on",
        "outputId": "d063bc5d-3efc-4d28-985a-9afe603b5dff"
      },
      "outputs": [
        {
          "data": {
            "text/plain": [
              "<matplotlib.axes._subplots.AxesSubplot at 0x2745a8985c8>"
            ]
          },
          "execution_count": 14,
          "metadata": {},
          "output_type": "execute_result"
        },
        {
          "data": {
            "image/png": "[encoded data removed]",
            "text/plain": [
              "<Figure size 432x288 with 1 Axes>"
            ]
          },
          "metadata": {
            "needs_background": "light"
          },
          "output_type": "display_data"
        }
      ],
      "source": [
        "sns.countplot(x='Paid',data=df8)"
      ]
    },
    {
      "cell_type": "markdown",
      "metadata": {
        "id": "_egx2bcO05oo"
      },
      "source": [
        "### Most students are not PAID, What about the subscription types for these PAID students ?"
      ]
    },
    {
      "cell_type": "code",
      "execution_count": null,
      "metadata": {
        "id": "0M8Am8Z605oo"
      },
      "outputs": [],
      "source": [
        "# type of subscription for paid students\n",
        "c_dict=pd.Series(df6.purchase_type.values,index=df6.student_id).to_dict()\n",
        "c_dict2=pd.Series(df6.date_purchased.values,index=df6.student_id).to_dict()\n",
        "df8['type']=df8['student_id'].map(c_dict)\n",
        "df8['date']=df8['student_id'].map(c_dict2)"
      ]
    },
    {
      "cell_type": "code",
      "execution_count": null,
      "metadata": {
        "id": "iAdfqvN105oo",
        "outputId": "220972d0-0dea-4ef5-a416-248e26dc2434"
      },
      "outputs": [
        {
          "data": {
            "text/plain": [
              "<matplotlib.axes._subplots.AxesSubplot at 0x2745a693288>"
            ]
          },
          "execution_count": 16,
          "metadata": {},
          "output_type": "execute_result"
        },
        {
          "data": {
            "image/png": "[encoded data removed]",
            "text/plain": [
              "<Figure size 432x288 with 1 Axes>"
            ]
          },
          "metadata": {
            "needs_background": "light"
          },
          "output_type": "display_data"
        }
      ],
      "source": [
        "#Purchase types\n",
        "sns.countplot(x='type',data=df8)"
      ]
    },
    {
      "cell_type": "markdown",
      "metadata": {
        "id": "c0TlltPX05oo"
      },
      "source": [
        "### Now let's take a look at engagement rates for students, An ENGAGED student is a student who has done at least one of the following:\n",
        "\n",
        "#### 1. Watched a video\n",
        "#### 2. Solved a quiz\n",
        "#### 3. Attempted an exam"
      ]
    },
    {
      "cell_type": "code",
      "execution_count": null,
      "metadata": {
        "id": "nMrAM-gL05oo"
      },
      "outputs": [],
      "source": [
        "# classifying engaged vs not engaged students\n",
        "engaged_student_id=[]\n",
        "for x in df10['student_id']:\n",
        "    engaged_student_id.append(x)\n",
        "\n",
        "def engaged(x):\n",
        "    if x in engaged_student_id:\n",
        "        return 1\n",
        "    else:\n",
        "        return 0\n",
        "    \n",
        "df8['engaged']=df8['student_id'].map(engaged)"
      ]
    },
    {
      "cell_type": "code",
      "execution_count": null,
      "metadata": {
        "id": "WGUlNwfo05op",
        "outputId": "1925aa0b-1842-4f9c-d383-bb0ddc91c5c4"
      },
      "outputs": [
        {
          "data": {
            "text/plain": [
              "<matplotlib.axes._subplots.AxesSubplot at 0x2745a739088>"
            ]
          },
          "execution_count": 18,
          "metadata": {},
          "output_type": "execute_result"
        },
        {
          "data": {
            "image/png": "[encoded data removed]",
            "text/plain": [
              "<Figure size 432x288 with 1 Axes>"
            ]
          },
          "metadata": {
            "needs_background": "light"
          },
          "output_type": "display_data"
        }
      ],
      "source": [
        "sns.countplot(x='engaged',data=df8)"
      ]
    },
    {
      "cell_type": "markdown",
      "metadata": {
        "id": "-Phlgj9V05op"
      },
      "source": [
        "### The percentage of engaged vs not-engaged students is nearly 50/50%, but an engaged student may have engaged 1 time or 200 times! , so let's see how the number of engagements is distributed"
      ]
    },
    {
      "cell_type": "code",
      "execution_count": null,
      "metadata": {
        "id": "1yjqAlJw05op"
      },
      "outputs": [],
      "source": [
        "df10['sup']=1\n",
        "engfr=[]\n",
        "for x in df8['student_id']:\n",
        "    engfr.append(df10.loc[df10['student_id'] == x, 'sup'].sum())\n",
        "df8[\"number_of_engagments\"] = engfr"
      ]
    },
    {
      "cell_type": "code",
      "execution_count": null,
      "metadata": {
        "id": "j4oJzSuX05op",
        "outputId": "e09d3561-c389-4e6e-ed0b-4588233770fe"
      },
      "outputs": [
        {
          "data": {
            "text/plain": [
              "<matplotlib.axes._subplots.AxesSubplot at 0x2745adb1d08>"
            ]
          },
          "execution_count": 20,
          "metadata": {},
          "output_type": "execute_result"
        },
        {
          "data": {
            "image/png": "[encoded data removed]",
            "text/plain": [
              "<Figure size 432x288 with 1 Axes>"
            ]
          },
          "metadata": {
            "needs_background": "light"
          },
          "output_type": "display_data"
        }
      ],
      "source": [
        "sns.kdeplot(data=df8, x=\"number_of_engagments\",color='c')"
      ]
    },
    {
      "cell_type": "code",
      "execution_count": null,
      "metadata": {
        "id": "yiP5VpKF05op",
        "outputId": "06c89264-c0e0-4540-8670-a4bcd811b4df"
      },
      "outputs": [
        {
          "data": {
            "text/plain": [
              "1.8555492478001703"
            ]
          },
          "execution_count": 21,
          "metadata": {},
          "output_type": "execute_result"
        }
      ],
      "source": [
        "df8['number_of_engagments'].mean()"
      ]
    },
    {
      "cell_type": "code",
      "execution_count": null,
      "metadata": {
        "id": "7nNu32Zg05oq",
        "outputId": "869b481b-79af-4c7c-e24b-e2b45e09a410"
      },
      "outputs": [
        {
          "data": {
            "text/html": [
              "<div>\n",
              "<style scoped>\n",
              "    .dataframe tbody tr th:only-of-type {\n",
              "        vertical-align: middle;\n",
              "    }\n",
              "\n",
              "    .dataframe tbody tr th {\n",
              "        vertical-align: top;\n",
              "    }\n",
              "\n",
              "    .dataframe thead th {\n",
              "        text-align: right;\n",
              "    }\n",
              "</style>\n",
              "<table border=\"1\" class=\"dataframe\">\n",
              "  <thead>\n",
              "    <tr style=\"text-align: right;\">\n",
              "      <th></th>\n",
              "      <th>student_id</th>\n",
              "      <th>student_country</th>\n",
              "      <th>date_registered</th>\n",
              "      <th>Paid</th>\n",
              "      <th>type</th>\n",
              "      <th>date</th>\n",
              "      <th>engaged</th>\n",
              "      <th>number_of_engagments</th>\n",
              "    </tr>\n",
              "  </thead>\n",
              "  <tbody>\n",
              "    <tr>\n",
              "      <th>10111</th>\n",
              "      <td>269204</td>\n",
              "      <td>PL</td>\n",
              "      <td>2022-04-01</td>\n",
              "      <td>Paid</td>\n",
              "      <td>Annual</td>\n",
              "      <td>2022-04-01</td>\n",
              "      <td>1</td>\n",
              "      <td>155</td>\n",
              "    </tr>\n",
              "  </tbody>\n",
              "</table>\n",
              "</div>"
            ],
            "text/plain": [
              "       student_id student_country date_registered  Paid    type        date  \\\n",
              "10111      269204              PL      2022-04-01  Paid  Annual  2022-04-01   \n",
              "\n",
              "       engaged  number_of_engagments  \n",
              "10111        1                   155  "
            ]
          },
          "execution_count": 22,
          "metadata": {},
          "output_type": "execute_result"
        }
      ],
      "source": [
        "# Students with highest number of engagments\n",
        "df8[df8['number_of_engagments']==df8['number_of_engagments'].max()]"
      ]
    },
    {
      "cell_type": "markdown",
      "metadata": {
        "id": "4hS995uW05oq"
      },
      "source": [
        "### In a single engagement session , a student may have watched a lesson, took an exam or a quiz, Or done all of them, let's see how the number of actions in a single session is distributed"
      ]
    },
    {
      "cell_type": "code",
      "execution_count": null,
      "metadata": {
        "id": "nMJBGV1v05oq"
      },
      "outputs": [],
      "source": [
        "df10['eng_value']=df10['engagement_quizzes']+df10['engagement_exams']+df10['engagement_lessons']"
      ]
    },
    {
      "cell_type": "code",
      "execution_count": null,
      "metadata": {
        "id": "rC6Ox2Ip05oq",
        "outputId": "bf4c4fe4-f045-47ad-a8ae-224da92998a0"
      },
      "outputs": [
        {
          "data": {
            "text/plain": [
              "<matplotlib.axes._subplots.AxesSubplot at 0x2745b2f2388>"
            ]
          },
          "execution_count": 24,
          "metadata": {},
          "output_type": "execute_result"
        },
        {
          "data": {
            "image/png": "[encoded data removed]",
            "text/plain": [
              "<Figure size 432x288 with 1 Axes>"
            ]
          },
          "metadata": {
            "needs_background": "light"
          },
          "output_type": "display_data"
        }
      ],
      "source": [
        "sns.countplot(x='eng_value',data=df10)"
      ]
    },
    {
      "cell_type": "markdown",
      "metadata": {
        "id": "NeoRl-8J05oq"
      },
      "source": [
        "### As we see on average a student is engaged 1 to 15 times, Wich is not a good sign as students are not maintaining their learning rate on the platform.\n",
        "\n",
        "### In a single engagement session, Most student only engages in a certain item either a course, exam, or quiz.\n",
        "\n",
        "###  Now let's take a look at  student's countries distribution "
      ]
    },
    {
      "cell_type": "code",
      "execution_count": null,
      "metadata": {
        "id": "diqrBJK905or",
        "outputId": "8f33bb04-9f77-416c-d5f2-9661b90a90d7"
      },
      "outputs": [
        {
          "name": "stderr",
          "output_type": "stream",
          "text": [
            "nan not found in ISO3\n",
            "nan not found in ISO3\n",
            "nan not found in ISO3\n",
            "nan not found in ISO3\n",
            "nan not found in ISO3\n",
            "nan not found in ISO3\n",
            "nan not found in ISO3\n",
            "nan not found in ISO3\n",
            "nan not found in ISO3\n",
            "nan not found in ISO3\n",
            "nan not found in ISO3\n",
            "nan not found in ISO3\n",
            "nan not found in ISO3\n"
          ]
        }
      ],
      "source": [
        "# Converting country code to country name for better visualization\n",
        "\n",
        "df8['country'] = coco.convert(names=df8.student_country.tolist(), to='name_short', not_found=None)\n",
        "df8 = df8.drop ('student_country',axis=1)\n",
        "df8.rename(columns = {'date':'date_purchased','country':'student_country'}, inplace = True)"
      ]
    },
    {
      "cell_type": "code",
      "execution_count": null,
      "metadata": {
        "id": "a-MJkGK305or",
        "outputId": "1076899f-24ea-4e55-802e-3c28a1477a0f"
      },
      "outputs": [
        {
          "data": {
            "text/plain": [
              "<matplotlib.axes._subplots.AxesSubplot at 0x2745b8e4848>"
            ]
          },
          "execution_count": 26,
          "metadata": {},
          "output_type": "execute_result"
        },
        {
          "data": {
            "image/png": "[encoded data removed]",
            "text/plain": [
              "<Figure size 432x288 with 1 Axes>"
            ]
          },
          "metadata": {
            "needs_background": "light"
          },
          "output_type": "display_data"
        }
      ],
      "source": [
        "sns.countplot(x='student_country',data=df8, order=pd.value_counts(df8['student_country']).iloc[:5].index)"
      ]
    },
    {
      "cell_type": "markdown",
      "metadata": {
        "id": "D0nvrKtU05or"
      },
      "source": [
        "### For 365 data science to attract more audience from diffrent countries they have to offer subtitles/translation to their platform and courses, for example, @DataCamp a direct competitor for the platform, had their courses available in  English, Spanish, French, Chinese(simplified), Portuguese, German, Korean, Japanese, Russian, and Italian subtitles."
      ]
    },
    {
      "cell_type": "code",
      "execution_count": null,
      "metadata": {
        "id": "tLdPvTGj05or",
        "outputId": "7ca26061-7a46-44eb-ed6c-5ad4541d7f24"
      },
      "outputs": [
        {
          "data": {
            "text/html": [
              "<div>\n",
              "<style scoped>\n",
              "    .dataframe tbody tr th:only-of-type {\n",
              "        vertical-align: middle;\n",
              "    }\n",
              "\n",
              "    .dataframe tbody tr th {\n",
              "        vertical-align: top;\n",
              "    }\n",
              "\n",
              "    .dataframe thead th {\n",
              "        text-align: right;\n",
              "    }\n",
              "</style>\n",
              "<table border=\"1\" class=\"dataframe\">\n",
              "  <thead>\n",
              "    <tr style=\"text-align: right;\">\n",
              "      <th></th>\n",
              "      <th>student_id</th>\n",
              "      <th>date_registered</th>\n",
              "      <th>Paid</th>\n",
              "      <th>type</th>\n",
              "      <th>date_purchased</th>\n",
              "      <th>engaged</th>\n",
              "      <th>number_of_engagments</th>\n",
              "      <th>student_country</th>\n",
              "      <th>month</th>\n",
              "      <th>day</th>\n",
              "    </tr>\n",
              "  </thead>\n",
              "  <tbody>\n",
              "    <tr>\n",
              "      <th>0</th>\n",
              "      <td>258798</td>\n",
              "      <td>2022-01-01</td>\n",
              "      <td>Free</td>\n",
              "      <td>NaN</td>\n",
              "      <td>NaN</td>\n",
              "      <td>1</td>\n",
              "      <td>1</td>\n",
              "      <td>India</td>\n",
              "      <td>1</td>\n",
              "      <td>1</td>\n",
              "    </tr>\n",
              "    <tr>\n",
              "      <th>1</th>\n",
              "      <td>258799</td>\n",
              "      <td>2022-01-01</td>\n",
              "      <td>Free</td>\n",
              "      <td>NaN</td>\n",
              "      <td>NaN</td>\n",
              "      <td>0</td>\n",
              "      <td>0</td>\n",
              "      <td>Colombia</td>\n",
              "      <td>1</td>\n",
              "      <td>1</td>\n",
              "    </tr>\n",
              "    <tr>\n",
              "      <th>2</th>\n",
              "      <td>258800</td>\n",
              "      <td>2022-01-01</td>\n",
              "      <td>Paid</td>\n",
              "      <td>Annual</td>\n",
              "      <td>2022-01-01</td>\n",
              "      <td>1</td>\n",
              "      <td>29</td>\n",
              "      <td>Canada</td>\n",
              "      <td>1</td>\n",
              "      <td>1</td>\n",
              "    </tr>\n",
              "    <tr>\n",
              "      <th>3</th>\n",
              "      <td>258801</td>\n",
              "      <td>2022-01-01</td>\n",
              "      <td>Free</td>\n",
              "      <td>NaN</td>\n",
              "      <td>NaN</td>\n",
              "      <td>0</td>\n",
              "      <td>0</td>\n",
              "      <td>India</td>\n",
              "      <td>1</td>\n",
              "      <td>1</td>\n",
              "    </tr>\n",
              "    <tr>\n",
              "      <th>4</th>\n",
              "      <td>258802</td>\n",
              "      <td>2022-01-01</td>\n",
              "      <td>Free</td>\n",
              "      <td>NaN</td>\n",
              "      <td>NaN</td>\n",
              "      <td>0</td>\n",
              "      <td>0</td>\n",
              "      <td>United States</td>\n",
              "      <td>1</td>\n",
              "      <td>1</td>\n",
              "    </tr>\n",
              "    <tr>\n",
              "      <th>...</th>\n",
              "      <td>...</td>\n",
              "      <td>...</td>\n",
              "      <td>...</td>\n",
              "      <td>...</td>\n",
              "      <td>...</td>\n",
              "      <td>...</td>\n",
              "      <td>...</td>\n",
              "      <td>...</td>\n",
              "      <td>...</td>\n",
              "      <td>...</td>\n",
              "    </tr>\n",
              "    <tr>\n",
              "      <th>35225</th>\n",
              "      <td>295511</td>\n",
              "      <td>2022-10-20</td>\n",
              "      <td>Free</td>\n",
              "      <td>NaN</td>\n",
              "      <td>NaN</td>\n",
              "      <td>1</td>\n",
              "      <td>1</td>\n",
              "      <td>Cameroon</td>\n",
              "      <td>10</td>\n",
              "      <td>20</td>\n",
              "    </tr>\n",
              "    <tr>\n",
              "      <th>35226</th>\n",
              "      <td>295512</td>\n",
              "      <td>2022-10-20</td>\n",
              "      <td>Free</td>\n",
              "      <td>NaN</td>\n",
              "      <td>NaN</td>\n",
              "      <td>1</td>\n",
              "      <td>1</td>\n",
              "      <td>Canada</td>\n",
              "      <td>10</td>\n",
              "      <td>20</td>\n",
              "    </tr>\n",
              "    <tr>\n",
              "      <th>35227</th>\n",
              "      <td>295513</td>\n",
              "      <td>2022-10-20</td>\n",
              "      <td>Free</td>\n",
              "      <td>NaN</td>\n",
              "      <td>NaN</td>\n",
              "      <td>1</td>\n",
              "      <td>1</td>\n",
              "      <td>Saudi Arabia</td>\n",
              "      <td>10</td>\n",
              "      <td>20</td>\n",
              "    </tr>\n",
              "    <tr>\n",
              "      <th>35228</th>\n",
              "      <td>295514</td>\n",
              "      <td>2022-10-20</td>\n",
              "      <td>Free</td>\n",
              "      <td>NaN</td>\n",
              "      <td>NaN</td>\n",
              "      <td>0</td>\n",
              "      <td>0</td>\n",
              "      <td>Netherlands</td>\n",
              "      <td>10</td>\n",
              "      <td>20</td>\n",
              "    </tr>\n",
              "    <tr>\n",
              "      <th>35229</th>\n",
              "      <td>295515</td>\n",
              "      <td>2022-10-20</td>\n",
              "      <td>Free</td>\n",
              "      <td>NaN</td>\n",
              "      <td>NaN</td>\n",
              "      <td>0</td>\n",
              "      <td>0</td>\n",
              "      <td>Singapore</td>\n",
              "      <td>10</td>\n",
              "      <td>20</td>\n",
              "    </tr>\n",
              "  </tbody>\n",
              "</table>\n",
              "<p>35230 rows × 10 columns</p>\n",
              "</div>"
            ],
            "text/plain": [
              "       student_id date_registered  Paid    type date_purchased  engaged  \\\n",
              "0          258798      2022-01-01  Free     NaN            NaN        1   \n",
              "1          258799      2022-01-01  Free     NaN            NaN        0   \n",
              "2          258800      2022-01-01  Paid  Annual     2022-01-01        1   \n",
              "3          258801      2022-01-01  Free     NaN            NaN        0   \n",
              "4          258802      2022-01-01  Free     NaN            NaN        0   \n",
              "...           ...             ...   ...     ...            ...      ...   \n",
              "35225      295511      2022-10-20  Free     NaN            NaN        1   \n",
              "35226      295512      2022-10-20  Free     NaN            NaN        1   \n",
              "35227      295513      2022-10-20  Free     NaN            NaN        1   \n",
              "35228      295514      2022-10-20  Free     NaN            NaN        0   \n",
              "35229      295515      2022-10-20  Free     NaN            NaN        0   \n",
              "\n",
              "       number_of_engagments student_country  month  day  \n",
              "0                         1           India      1    1  \n",
              "1                         0        Colombia      1    1  \n",
              "2                        29          Canada      1    1  \n",
              "3                         0           India      1    1  \n",
              "4                         0   United States      1    1  \n",
              "...                     ...             ...    ...  ...  \n",
              "35225                     1        Cameroon     10   20  \n",
              "35226                     1          Canada     10   20  \n",
              "35227                     1    Saudi Arabia     10   20  \n",
              "35228                     0     Netherlands     10   20  \n",
              "35229                     0       Singapore     10   20  \n",
              "\n",
              "[35230 rows x 10 columns]"
            ]
          },
          "execution_count": 27,
          "metadata": {},
          "output_type": "execute_result"
        }
      ],
      "source": [
        "# reformating datatime data\n",
        "df8['date_registered']=pd.to_datetime(df8['date_registered'],format='%Y/%m/%d')\n",
        "df10['date_engaged']=pd.to_datetime(df10['date_engaged'],format='%Y/%m/%d')\n",
        "df10['month']=df10['date_engaged'].dt.month\n",
        "df8['date_registered']=pd.to_datetime(df8['date_registered'],format='%Y/%m/%d')\n",
        "df8['month']=df8['date_registered'].dt.month\n",
        "df8['day']=df8['date_registered'].dt.day\n",
        "df10['day']=df10['date_engaged'].dt.day\n",
        "df8"
      ]
    },
    {
      "cell_type": "markdown",
      "metadata": {
        "id": "01QLcANr05or"
      },
      "source": [
        "## Total minutes watched per course"
      ]
    },
    {
      "cell_type": "code",
      "execution_count": null,
      "metadata": {
        "id": "TyAKQ01105or"
      },
      "outputs": [],
      "source": [
        "# calculating total minutes watched for every course\n",
        "sum_of_minutes=[]\n",
        "for x in df5['course_id']:\n",
        "    sum_of_minutes.append(df7.loc[df7['course_id'] == x, 'minutes_watched'].sum())\n",
        "df5['total_minutes_watched'] = sum_of_minutes"
      ]
    },
    {
      "cell_type": "code",
      "execution_count": null,
      "metadata": {
        "id": "qov64iF305os",
        "outputId": "2b0f225f-21b5-4546-8de8-16b170fba1a8"
      },
      "outputs": [
        {
          "data": {
            "text/html": [
              "<div>\n",
              "<style scoped>\n",
              "    .dataframe tbody tr th:only-of-type {\n",
              "        vertical-align: middle;\n",
              "    }\n",
              "\n",
              "    .dataframe tbody tr th {\n",
              "        vertical-align: top;\n",
              "    }\n",
              "\n",
              "    .dataframe thead th {\n",
              "        text-align: right;\n",
              "    }\n",
              "</style>\n",
              "<table border=\"1\" class=\"dataframe\">\n",
              "  <thead>\n",
              "    <tr style=\"text-align: right;\">\n",
              "      <th></th>\n",
              "      <th>course_id</th>\n",
              "      <th>course_title</th>\n",
              "      <th>total_minutes_watched</th>\n",
              "    </tr>\n",
              "  </thead>\n",
              "  <tbody>\n",
              "    <tr>\n",
              "      <th>0</th>\n",
              "      <td>2</td>\n",
              "      <td>Introduction to Tableau</td>\n",
              "      <td>50405.5</td>\n",
              "    </tr>\n",
              "    <tr>\n",
              "      <th>1</th>\n",
              "      <td>3</td>\n",
              "      <td>The Complete Data Visualization Course with Py...</td>\n",
              "      <td>73659.9</td>\n",
              "    </tr>\n",
              "    <tr>\n",
              "      <th>2</th>\n",
              "      <td>4</td>\n",
              "      <td>Introduction to R Programming</td>\n",
              "      <td>28008.9</td>\n",
              "    </tr>\n",
              "    <tr>\n",
              "      <th>3</th>\n",
              "      <td>5</td>\n",
              "      <td>Data Preprocessing with NumPy</td>\n",
              "      <td>44323.8</td>\n",
              "    </tr>\n",
              "    <tr>\n",
              "      <th>4</th>\n",
              "      <td>7</td>\n",
              "      <td>Introduction to Data and Data Science</td>\n",
              "      <td>333265.9</td>\n",
              "    </tr>\n",
              "    <tr>\n",
              "      <th>5</th>\n",
              "      <td>11</td>\n",
              "      <td>Data Cleaning and Preprocessing with pandas</td>\n",
              "      <td>25412.0</td>\n",
              "    </tr>\n",
              "    <tr>\n",
              "      <th>6</th>\n",
              "      <td>12</td>\n",
              "      <td>Introduction to Business Analytics</td>\n",
              "      <td>13391.9</td>\n",
              "    </tr>\n",
              "    <tr>\n",
              "      <th>7</th>\n",
              "      <td>13</td>\n",
              "      <td>Data Analysis with Excel Pivot Tables</td>\n",
              "      <td>38021.0</td>\n",
              "    </tr>\n",
              "    <tr>\n",
              "      <th>8</th>\n",
              "      <td>14</td>\n",
              "      <td>SQL</td>\n",
              "      <td>234824.8</td>\n",
              "    </tr>\n",
              "    <tr>\n",
              "      <th>9</th>\n",
              "      <td>15</td>\n",
              "      <td>Credit Risk Modeling in Python</td>\n",
              "      <td>19716.3</td>\n",
              "    </tr>\n",
              "    <tr>\n",
              "      <th>10</th>\n",
              "      <td>16</td>\n",
              "      <td>Python Programmer Bootcamp</td>\n",
              "      <td>155164.3</td>\n",
              "    </tr>\n",
              "    <tr>\n",
              "      <th>11</th>\n",
              "      <td>19</td>\n",
              "      <td>SQL + Tableau + Python</td>\n",
              "      <td>4938.0</td>\n",
              "    </tr>\n",
              "    <tr>\n",
              "      <th>12</th>\n",
              "      <td>20</td>\n",
              "      <td>Introduction to Jupyter</td>\n",
              "      <td>20050.7</td>\n",
              "    </tr>\n",
              "    <tr>\n",
              "      <th>13</th>\n",
              "      <td>21</td>\n",
              "      <td>Statistics</td>\n",
              "      <td>193279.6</td>\n",
              "    </tr>\n",
              "    <tr>\n",
              "      <th>14</th>\n",
              "      <td>22</td>\n",
              "      <td>Mathematics</td>\n",
              "      <td>12521.1</td>\n",
              "    </tr>\n",
              "    <tr>\n",
              "      <th>15</th>\n",
              "      <td>23</td>\n",
              "      <td>Introduction to Excel</td>\n",
              "      <td>164472.1</td>\n",
              "    </tr>\n",
              "    <tr>\n",
              "      <th>16</th>\n",
              "      <td>24</td>\n",
              "      <td>Probability</td>\n",
              "      <td>42522.2</td>\n",
              "    </tr>\n",
              "    <tr>\n",
              "      <th>17</th>\n",
              "      <td>25</td>\n",
              "      <td>Starting a Career in Data Science: Project Por...</td>\n",
              "      <td>12175.9</td>\n",
              "    </tr>\n",
              "    <tr>\n",
              "      <th>18</th>\n",
              "      <td>26</td>\n",
              "      <td>SQL + Tableau</td>\n",
              "      <td>3498.7</td>\n",
              "    </tr>\n",
              "    <tr>\n",
              "      <th>19</th>\n",
              "      <td>27</td>\n",
              "      <td>Time Series Analysis with Python</td>\n",
              "      <td>11573.0</td>\n",
              "    </tr>\n",
              "    <tr>\n",
              "      <th>20</th>\n",
              "      <td>28</td>\n",
              "      <td>Power BI</td>\n",
              "      <td>34077.8</td>\n",
              "    </tr>\n",
              "    <tr>\n",
              "      <th>21</th>\n",
              "      <td>29</td>\n",
              "      <td>Product Management for AI &amp; Data Science</td>\n",
              "      <td>8862.6</td>\n",
              "    </tr>\n",
              "    <tr>\n",
              "      <th>22</th>\n",
              "      <td>30</td>\n",
              "      <td>Git and GitHub</td>\n",
              "      <td>6539.5</td>\n",
              "    </tr>\n",
              "    <tr>\n",
              "      <th>23</th>\n",
              "      <td>32</td>\n",
              "      <td>Deep Learning with TensorFlow 2</td>\n",
              "      <td>15436.7</td>\n",
              "    </tr>\n",
              "    <tr>\n",
              "      <th>24</th>\n",
              "      <td>33</td>\n",
              "      <td>Customer Analytics in Python</td>\n",
              "      <td>8137.4</td>\n",
              "    </tr>\n",
              "    <tr>\n",
              "      <th>25</th>\n",
              "      <td>34</td>\n",
              "      <td>Web Scraping and API Fundamentals in Python</td>\n",
              "      <td>11026.6</td>\n",
              "    </tr>\n",
              "    <tr>\n",
              "      <th>26</th>\n",
              "      <td>35</td>\n",
              "      <td>Introduction to Python</td>\n",
              "      <td>25355.5</td>\n",
              "    </tr>\n",
              "    <tr>\n",
              "      <th>27</th>\n",
              "      <td>36</td>\n",
              "      <td>Python for Finance</td>\n",
              "      <td>3908.8</td>\n",
              "    </tr>\n",
              "    <tr>\n",
              "      <th>28</th>\n",
              "      <td>37</td>\n",
              "      <td>Machine Learning in Python</td>\n",
              "      <td>37793.2</td>\n",
              "    </tr>\n",
              "    <tr>\n",
              "      <th>29</th>\n",
              "      <td>39</td>\n",
              "      <td>Advanced Microsoft Excel</td>\n",
              "      <td>14894.6</td>\n",
              "    </tr>\n",
              "    <tr>\n",
              "      <th>30</th>\n",
              "      <td>41</td>\n",
              "      <td>Convolutional Neural Networks with TensorFlow ...</td>\n",
              "      <td>4125.6</td>\n",
              "    </tr>\n",
              "    <tr>\n",
              "      <th>31</th>\n",
              "      <td>42</td>\n",
              "      <td>Data Strategy</td>\n",
              "      <td>102887.5</td>\n",
              "    </tr>\n",
              "    <tr>\n",
              "      <th>32</th>\n",
              "      <td>43</td>\n",
              "      <td>Fashion Analytics with Tableau</td>\n",
              "      <td>3261.8</td>\n",
              "    </tr>\n",
              "    <tr>\n",
              "      <th>33</th>\n",
              "      <td>44</td>\n",
              "      <td>Dates and Times in Python</td>\n",
              "      <td>1246.1</td>\n",
              "    </tr>\n",
              "    <tr>\n",
              "      <th>34</th>\n",
              "      <td>45</td>\n",
              "      <td>SQL for Data Science Interviews</td>\n",
              "      <td>10072.5</td>\n",
              "    </tr>\n",
              "    <tr>\n",
              "      <th>35</th>\n",
              "      <td>46</td>\n",
              "      <td>Data Literacy</td>\n",
              "      <td>51092.2</td>\n",
              "    </tr>\n",
              "    <tr>\n",
              "      <th>36</th>\n",
              "      <td>48</td>\n",
              "      <td>AI Applications for Business Success</td>\n",
              "      <td>1262.3</td>\n",
              "    </tr>\n",
              "    <tr>\n",
              "      <th>37</th>\n",
              "      <td>49</td>\n",
              "      <td>Linear Algebra and Feature Selection</td>\n",
              "      <td>3280.0</td>\n",
              "    </tr>\n",
              "    <tr>\n",
              "      <th>38</th>\n",
              "      <td>50</td>\n",
              "      <td>Machine Learning with Naïve Bayes</td>\n",
              "      <td>2454.5</td>\n",
              "    </tr>\n",
              "    <tr>\n",
              "      <th>39</th>\n",
              "      <td>51</td>\n",
              "      <td>Machine Learning in Excel</td>\n",
              "      <td>2587.6</td>\n",
              "    </tr>\n",
              "    <tr>\n",
              "      <th>40</th>\n",
              "      <td>52</td>\n",
              "      <td>Machine Learning with Support Vector Machines</td>\n",
              "      <td>1741.7</td>\n",
              "    </tr>\n",
              "    <tr>\n",
              "      <th>41</th>\n",
              "      <td>53</td>\n",
              "      <td>A/B Testing in Python</td>\n",
              "      <td>3989.1</td>\n",
              "    </tr>\n",
              "    <tr>\n",
              "      <th>42</th>\n",
              "      <td>54</td>\n",
              "      <td>Machine Learning with Decision Trees and Rando...</td>\n",
              "      <td>2431.4</td>\n",
              "    </tr>\n",
              "    <tr>\n",
              "      <th>43</th>\n",
              "      <td>55</td>\n",
              "      <td>Machine Learning with K-Nearest Neighbors</td>\n",
              "      <td>1247.3</td>\n",
              "    </tr>\n",
              "    <tr>\n",
              "      <th>44</th>\n",
              "      <td>56</td>\n",
              "      <td>Machine Learning with Ridge and Lasso Regression</td>\n",
              "      <td>652.4</td>\n",
              "    </tr>\n",
              "    <tr>\n",
              "      <th>45</th>\n",
              "      <td>57</td>\n",
              "      <td>Data-Driven Business Growth</td>\n",
              "      <td>735.7</td>\n",
              "    </tr>\n",
              "  </tbody>\n",
              "</table>\n",
              "</div>"
            ],
            "text/plain": [
              "    course_id                                       course_title  \\\n",
              "0           2                            Introduction to Tableau   \n",
              "1           3  The Complete Data Visualization Course with Py...   \n",
              "2           4                      Introduction to R Programming   \n",
              "3           5                      Data Preprocessing with NumPy   \n",
              "4           7              Introduction to Data and Data Science   \n",
              "5          11        Data Cleaning and Preprocessing with pandas   \n",
              "6          12                 Introduction to Business Analytics   \n",
              "7          13              Data Analysis with Excel Pivot Tables   \n",
              "8          14                                                SQL   \n",
              "9          15                     Credit Risk Modeling in Python   \n",
              "10         16                         Python Programmer Bootcamp   \n",
              "11         19                             SQL + Tableau + Python   \n",
              "12         20                            Introduction to Jupyter   \n",
              "13         21                                         Statistics   \n",
              "14         22                                        Mathematics   \n",
              "15         23                              Introduction to Excel   \n",
              "16         24                                        Probability   \n",
              "17         25  Starting a Career in Data Science: Project Por...   \n",
              "18         26                                      SQL + Tableau   \n",
              "19         27                   Time Series Analysis with Python   \n",
              "20         28                                           Power BI   \n",
              "21         29           Product Management for AI & Data Science   \n",
              "22         30                                     Git and GitHub   \n",
              "23         32                    Deep Learning with TensorFlow 2   \n",
              "24         33                       Customer Analytics in Python   \n",
              "25         34        Web Scraping and API Fundamentals in Python   \n",
              "26         35                             Introduction to Python   \n",
              "27         36                                 Python for Finance   \n",
              "28         37                         Machine Learning in Python   \n",
              "29         39                           Advanced Microsoft Excel   \n",
              "30         41  Convolutional Neural Networks with TensorFlow ...   \n",
              "31         42                                      Data Strategy   \n",
              "32         43                     Fashion Analytics with Tableau   \n",
              "33         44                          Dates and Times in Python   \n",
              "34         45                    SQL for Data Science Interviews   \n",
              "35         46                                      Data Literacy   \n",
              "36         48               AI Applications for Business Success   \n",
              "37         49               Linear Algebra and Feature Selection   \n",
              "38         50                  Machine Learning with Naïve Bayes   \n",
              "39         51                          Machine Learning in Excel   \n",
              "40         52      Machine Learning with Support Vector Machines   \n",
              "41         53                              A/B Testing in Python   \n",
              "42         54  Machine Learning with Decision Trees and Rando...   \n",
              "43         55          Machine Learning with K-Nearest Neighbors   \n",
              "44         56   Machine Learning with Ridge and Lasso Regression   \n",
              "45         57                        Data-Driven Business Growth   \n",
              "\n",
              "    total_minutes_watched  \n",
              "0                 50405.5  \n",
              "1                 73659.9  \n",
              "2                 28008.9  \n",
              "3                 44323.8  \n",
              "4                333265.9  \n",
              "5                 25412.0  \n",
              "6                 13391.9  \n",
              "7                 38021.0  \n",
              "8                234824.8  \n",
              "9                 19716.3  \n",
              "10               155164.3  \n",
              "11                 4938.0  \n",
              "12                20050.7  \n",
              "13               193279.6  \n",
              "14                12521.1  \n",
              "15               164472.1  \n",
              "16                42522.2  \n",
              "17                12175.9  \n",
              "18                 3498.7  \n",
              "19                11573.0  \n",
              "20                34077.8  \n",
              "21                 8862.6  \n",
              "22                 6539.5  \n",
              "23                15436.7  \n",
              "24                 8137.4  \n",
              "25                11026.6  \n",
              "26                25355.5  \n",
              "27                 3908.8  \n",
              "28                37793.2  \n",
              "29                14894.6  \n",
              "30                 4125.6  \n",
              "31               102887.5  \n",
              "32                 3261.8  \n",
              "33                 1246.1  \n",
              "34                10072.5  \n",
              "35                51092.2  \n",
              "36                 1262.3  \n",
              "37                 3280.0  \n",
              "38                 2454.5  \n",
              "39                 2587.6  \n",
              "40                 1741.7  \n",
              "41                 3989.1  \n",
              "42                 2431.4  \n",
              "43                 1247.3  \n",
              "44                  652.4  \n",
              "45                  735.7  "
            ]
          },
          "execution_count": 29,
          "metadata": {},
          "output_type": "execute_result"
        }
      ],
      "source": [
        "df5"
      ]
    },
    {
      "cell_type": "code",
      "execution_count": null,
      "metadata": {
        "id": "t1Y38vb205os"
      },
      "outputs": [],
      "source": []
    },
    {
      "cell_type": "code",
      "execution_count": null,
      "metadata": {
        "id": "jBTvVZtL05os",
        "outputId": "55f74498-eee1-4c48-9b35-84ca0050aa54"
      },
      "outputs": [
        {
          "data": {
            "text/plain": [
              "<matplotlib.axes._subplots.AxesSubplot at 0x2745a667548>"
            ]
          },
          "execution_count": 30,
          "metadata": {},
          "output_type": "execute_result"
        },
        {
          "data": {
            "image/png": "[encoded data removed]",
            "text/plain": [
              "<Figure size 432x288 with 1 Axes>"
            ]
          },
          "metadata": {
            "needs_background": "light"
          },
          "output_type": "display_data"
        }
      ],
      "source": [
        "# Top 3 courses by minutes watched\n",
        "sns.lineplot(x='course_title', y='total_minutes_watched', data=df5.nlargest(3, 'total_minutes_watched'))"
      ]
    },
    {
      "cell_type": "markdown",
      "metadata": {
        "id": "vRhpmn5905os"
      },
      "source": [
        "## Course Average rating's"
      ]
    },
    {
      "cell_type": "code",
      "execution_count": null,
      "metadata": {
        "id": "jA-bvpGm05os"
      },
      "outputs": [],
      "source": [
        "# calculating average rating for every course\n",
        "average_course_rating=[]\n",
        "for x in df5['course_id']:\n",
        "    average_course_rating.append(df1.loc[df1['course_id'] == x, 'course_rating'].mean())\n",
        "df5['average_course_rating'] = average_course_rating"
      ]
    },
    {
      "cell_type": "code",
      "execution_count": null,
      "metadata": {
        "id": "_E026gYw05os",
        "outputId": "19dfd13a-393f-4fae-d488-08f4fad25eda"
      },
      "outputs": [
        {
          "data": {
            "text/html": [
              "<div>\n",
              "<style scoped>\n",
              "    .dataframe tbody tr th:only-of-type {\n",
              "        vertical-align: middle;\n",
              "    }\n",
              "\n",
              "    .dataframe tbody tr th {\n",
              "        vertical-align: top;\n",
              "    }\n",
              "\n",
              "    .dataframe thead th {\n",
              "        text-align: right;\n",
              "    }\n",
              "</style>\n",
              "<table border=\"1\" class=\"dataframe\">\n",
              "  <thead>\n",
              "    <tr style=\"text-align: right;\">\n",
              "      <th></th>\n",
              "      <th>course_id</th>\n",
              "      <th>course_title</th>\n",
              "      <th>total_minutes_watched</th>\n",
              "      <th>average_course_rating</th>\n",
              "    </tr>\n",
              "  </thead>\n",
              "  <tbody>\n",
              "    <tr>\n",
              "      <th>0</th>\n",
              "      <td>2</td>\n",
              "      <td>Introduction to Tableau</td>\n",
              "      <td>50405.5</td>\n",
              "      <td>4.625000</td>\n",
              "    </tr>\n",
              "    <tr>\n",
              "      <th>1</th>\n",
              "      <td>3</td>\n",
              "      <td>The Complete Data Visualization Course with Py...</td>\n",
              "      <td>73659.9</td>\n",
              "      <td>4.705882</td>\n",
              "    </tr>\n",
              "    <tr>\n",
              "      <th>2</th>\n",
              "      <td>4</td>\n",
              "      <td>Introduction to R Programming</td>\n",
              "      <td>28008.9</td>\n",
              "      <td>4.880000</td>\n",
              "    </tr>\n",
              "    <tr>\n",
              "      <th>3</th>\n",
              "      <td>5</td>\n",
              "      <td>Data Preprocessing with NumPy</td>\n",
              "      <td>44323.8</td>\n",
              "      <td>4.903226</td>\n",
              "    </tr>\n",
              "    <tr>\n",
              "      <th>4</th>\n",
              "      <td>7</td>\n",
              "      <td>Introduction to Data and Data Science</td>\n",
              "      <td>333265.9</td>\n",
              "      <td>4.858392</td>\n",
              "    </tr>\n",
              "    <tr>\n",
              "      <th>5</th>\n",
              "      <td>11</td>\n",
              "      <td>Data Cleaning and Preprocessing with pandas</td>\n",
              "      <td>25412.0</td>\n",
              "      <td>4.622642</td>\n",
              "    </tr>\n",
              "    <tr>\n",
              "      <th>6</th>\n",
              "      <td>12</td>\n",
              "      <td>Introduction to Business Analytics</td>\n",
              "      <td>13391.9</td>\n",
              "      <td>4.357143</td>\n",
              "    </tr>\n",
              "    <tr>\n",
              "      <th>7</th>\n",
              "      <td>13</td>\n",
              "      <td>Data Analysis with Excel Pivot Tables</td>\n",
              "      <td>38021.0</td>\n",
              "      <td>4.844444</td>\n",
              "    </tr>\n",
              "    <tr>\n",
              "      <th>8</th>\n",
              "      <td>14</td>\n",
              "      <td>SQL</td>\n",
              "      <td>234824.8</td>\n",
              "      <td>4.816000</td>\n",
              "    </tr>\n",
              "    <tr>\n",
              "      <th>9</th>\n",
              "      <td>15</td>\n",
              "      <td>Credit Risk Modeling in Python</td>\n",
              "      <td>19716.3</td>\n",
              "      <td>4.705882</td>\n",
              "    </tr>\n",
              "    <tr>\n",
              "      <th>10</th>\n",
              "      <td>16</td>\n",
              "      <td>Python Programmer Bootcamp</td>\n",
              "      <td>155164.3</td>\n",
              "      <td>4.821782</td>\n",
              "    </tr>\n",
              "    <tr>\n",
              "      <th>11</th>\n",
              "      <td>19</td>\n",
              "      <td>SQL + Tableau + Python</td>\n",
              "      <td>4938.0</td>\n",
              "      <td>5.000000</td>\n",
              "    </tr>\n",
              "    <tr>\n",
              "      <th>12</th>\n",
              "      <td>20</td>\n",
              "      <td>Introduction to Jupyter</td>\n",
              "      <td>20050.7</td>\n",
              "      <td>4.929825</td>\n",
              "    </tr>\n",
              "    <tr>\n",
              "      <th>13</th>\n",
              "      <td>21</td>\n",
              "      <td>Statistics</td>\n",
              "      <td>193279.6</td>\n",
              "      <td>4.813953</td>\n",
              "    </tr>\n",
              "    <tr>\n",
              "      <th>14</th>\n",
              "      <td>22</td>\n",
              "      <td>Mathematics</td>\n",
              "      <td>12521.1</td>\n",
              "      <td>4.850000</td>\n",
              "    </tr>\n",
              "    <tr>\n",
              "      <th>15</th>\n",
              "      <td>23</td>\n",
              "      <td>Introduction to Excel</td>\n",
              "      <td>164472.1</td>\n",
              "      <td>4.776860</td>\n",
              "    </tr>\n",
              "    <tr>\n",
              "      <th>16</th>\n",
              "      <td>24</td>\n",
              "      <td>Probability</td>\n",
              "      <td>42522.2</td>\n",
              "      <td>4.672131</td>\n",
              "    </tr>\n",
              "    <tr>\n",
              "      <th>17</th>\n",
              "      <td>25</td>\n",
              "      <td>Starting a Career in Data Science: Project Por...</td>\n",
              "      <td>12175.9</td>\n",
              "      <td>4.809524</td>\n",
              "    </tr>\n",
              "    <tr>\n",
              "      <th>18</th>\n",
              "      <td>26</td>\n",
              "      <td>SQL + Tableau</td>\n",
              "      <td>3498.7</td>\n",
              "      <td>4.807692</td>\n",
              "    </tr>\n",
              "    <tr>\n",
              "      <th>19</th>\n",
              "      <td>27</td>\n",
              "      <td>Time Series Analysis with Python</td>\n",
              "      <td>11573.0</td>\n",
              "      <td>4.636364</td>\n",
              "    </tr>\n",
              "    <tr>\n",
              "      <th>20</th>\n",
              "      <td>28</td>\n",
              "      <td>Power BI</td>\n",
              "      <td>34077.8</td>\n",
              "      <td>4.595745</td>\n",
              "    </tr>\n",
              "    <tr>\n",
              "      <th>21</th>\n",
              "      <td>29</td>\n",
              "      <td>Product Management for AI &amp; Data Science</td>\n",
              "      <td>8862.6</td>\n",
              "      <td>4.823529</td>\n",
              "    </tr>\n",
              "    <tr>\n",
              "      <th>22</th>\n",
              "      <td>30</td>\n",
              "      <td>Git and GitHub</td>\n",
              "      <td>6539.5</td>\n",
              "      <td>4.975610</td>\n",
              "    </tr>\n",
              "    <tr>\n",
              "      <th>23</th>\n",
              "      <td>32</td>\n",
              "      <td>Deep Learning with TensorFlow 2</td>\n",
              "      <td>15436.7</td>\n",
              "      <td>4.769231</td>\n",
              "    </tr>\n",
              "    <tr>\n",
              "      <th>24</th>\n",
              "      <td>33</td>\n",
              "      <td>Customer Analytics in Python</td>\n",
              "      <td>8137.4</td>\n",
              "      <td>5.000000</td>\n",
              "    </tr>\n",
              "    <tr>\n",
              "      <th>25</th>\n",
              "      <td>34</td>\n",
              "      <td>Web Scraping and API Fundamentals in Python</td>\n",
              "      <td>11026.6</td>\n",
              "      <td>4.545455</td>\n",
              "    </tr>\n",
              "    <tr>\n",
              "      <th>26</th>\n",
              "      <td>35</td>\n",
              "      <td>Introduction to Python</td>\n",
              "      <td>25355.5</td>\n",
              "      <td>4.730000</td>\n",
              "    </tr>\n",
              "    <tr>\n",
              "      <th>27</th>\n",
              "      <td>36</td>\n",
              "      <td>Python for Finance</td>\n",
              "      <td>3908.8</td>\n",
              "      <td>4.600000</td>\n",
              "    </tr>\n",
              "    <tr>\n",
              "      <th>28</th>\n",
              "      <td>37</td>\n",
              "      <td>Machine Learning in Python</td>\n",
              "      <td>37793.2</td>\n",
              "      <td>4.809524</td>\n",
              "    </tr>\n",
              "    <tr>\n",
              "      <th>29</th>\n",
              "      <td>39</td>\n",
              "      <td>Advanced Microsoft Excel</td>\n",
              "      <td>14894.6</td>\n",
              "      <td>4.860000</td>\n",
              "    </tr>\n",
              "    <tr>\n",
              "      <th>30</th>\n",
              "      <td>41</td>\n",
              "      <td>Convolutional Neural Networks with TensorFlow ...</td>\n",
              "      <td>4125.6</td>\n",
              "      <td>4.750000</td>\n",
              "    </tr>\n",
              "    <tr>\n",
              "      <th>31</th>\n",
              "      <td>42</td>\n",
              "      <td>Data Strategy</td>\n",
              "      <td>102887.5</td>\n",
              "      <td>4.733766</td>\n",
              "    </tr>\n",
              "    <tr>\n",
              "      <th>32</th>\n",
              "      <td>43</td>\n",
              "      <td>Fashion Analytics with Tableau</td>\n",
              "      <td>3261.8</td>\n",
              "      <td>4.454545</td>\n",
              "    </tr>\n",
              "    <tr>\n",
              "      <th>33</th>\n",
              "      <td>44</td>\n",
              "      <td>Dates and Times in Python</td>\n",
              "      <td>1246.1</td>\n",
              "      <td>4.875000</td>\n",
              "    </tr>\n",
              "    <tr>\n",
              "      <th>34</th>\n",
              "      <td>45</td>\n",
              "      <td>SQL for Data Science Interviews</td>\n",
              "      <td>10072.5</td>\n",
              "      <td>4.750000</td>\n",
              "    </tr>\n",
              "    <tr>\n",
              "      <th>35</th>\n",
              "      <td>46</td>\n",
              "      <td>Data Literacy</td>\n",
              "      <td>51092.2</td>\n",
              "      <td>4.791667</td>\n",
              "    </tr>\n",
              "    <tr>\n",
              "      <th>36</th>\n",
              "      <td>48</td>\n",
              "      <td>AI Applications for Business Success</td>\n",
              "      <td>1262.3</td>\n",
              "      <td>4.250000</td>\n",
              "    </tr>\n",
              "    <tr>\n",
              "      <th>37</th>\n",
              "      <td>49</td>\n",
              "      <td>Linear Algebra and Feature Selection</td>\n",
              "      <td>3280.0</td>\n",
              "      <td>4.857143</td>\n",
              "    </tr>\n",
              "    <tr>\n",
              "      <th>38</th>\n",
              "      <td>50</td>\n",
              "      <td>Machine Learning with Naïve Bayes</td>\n",
              "      <td>2454.5</td>\n",
              "      <td>4.705882</td>\n",
              "    </tr>\n",
              "    <tr>\n",
              "      <th>39</th>\n",
              "      <td>51</td>\n",
              "      <td>Machine Learning in Excel</td>\n",
              "      <td>2587.6</td>\n",
              "      <td>4.666667</td>\n",
              "    </tr>\n",
              "    <tr>\n",
              "      <th>40</th>\n",
              "      <td>52</td>\n",
              "      <td>Machine Learning with Support Vector Machines</td>\n",
              "      <td>1741.7</td>\n",
              "      <td>4.818182</td>\n",
              "    </tr>\n",
              "    <tr>\n",
              "      <th>41</th>\n",
              "      <td>53</td>\n",
              "      <td>A/B Testing in Python</td>\n",
              "      <td>3989.1</td>\n",
              "      <td>4.750000</td>\n",
              "    </tr>\n",
              "    <tr>\n",
              "      <th>42</th>\n",
              "      <td>54</td>\n",
              "      <td>Machine Learning with Decision Trees and Rando...</td>\n",
              "      <td>2431.4</td>\n",
              "      <td>4.777778</td>\n",
              "    </tr>\n",
              "    <tr>\n",
              "      <th>43</th>\n",
              "      <td>55</td>\n",
              "      <td>Machine Learning with K-Nearest Neighbors</td>\n",
              "      <td>1247.3</td>\n",
              "      <td>4.733333</td>\n",
              "    </tr>\n",
              "    <tr>\n",
              "      <th>44</th>\n",
              "      <td>56</td>\n",
              "      <td>Machine Learning with Ridge and Lasso Regression</td>\n",
              "      <td>652.4</td>\n",
              "      <td>NaN</td>\n",
              "    </tr>\n",
              "    <tr>\n",
              "      <th>45</th>\n",
              "      <td>57</td>\n",
              "      <td>Data-Driven Business Growth</td>\n",
              "      <td>735.7</td>\n",
              "      <td>1.000000</td>\n",
              "    </tr>\n",
              "  </tbody>\n",
              "</table>\n",
              "</div>"
            ],
            "text/plain": [
              "    course_id                                       course_title  \\\n",
              "0           2                            Introduction to Tableau   \n",
              "1           3  The Complete Data Visualization Course with Py...   \n",
              "2           4                      Introduction to R Programming   \n",
              "3           5                      Data Preprocessing with NumPy   \n",
              "4           7              Introduction to Data and Data Science   \n",
              "5          11        Data Cleaning and Preprocessing with pandas   \n",
              "6          12                 Introduction to Business Analytics   \n",
              "7          13              Data Analysis with Excel Pivot Tables   \n",
              "8          14                                                SQL   \n",
              "9          15                     Credit Risk Modeling in Python   \n",
              "10         16                         Python Programmer Bootcamp   \n",
              "11         19                             SQL + Tableau + Python   \n",
              "12         20                            Introduction to Jupyter   \n",
              "13         21                                         Statistics   \n",
              "14         22                                        Mathematics   \n",
              "15         23                              Introduction to Excel   \n",
              "16         24                                        Probability   \n",
              "17         25  Starting a Career in Data Science: Project Por...   \n",
              "18         26                                      SQL + Tableau   \n",
              "19         27                   Time Series Analysis with Python   \n",
              "20         28                                           Power BI   \n",
              "21         29           Product Management for AI & Data Science   \n",
              "22         30                                     Git and GitHub   \n",
              "23         32                    Deep Learning with TensorFlow 2   \n",
              "24         33                       Customer Analytics in Python   \n",
              "25         34        Web Scraping and API Fundamentals in Python   \n",
              "26         35                             Introduction to Python   \n",
              "27         36                                 Python for Finance   \n",
              "28         37                         Machine Learning in Python   \n",
              "29         39                           Advanced Microsoft Excel   \n",
              "30         41  Convolutional Neural Networks with TensorFlow ...   \n",
              "31         42                                      Data Strategy   \n",
              "32         43                     Fashion Analytics with Tableau   \n",
              "33         44                          Dates and Times in Python   \n",
              "34         45                    SQL for Data Science Interviews   \n",
              "35         46                                      Data Literacy   \n",
              "36         48               AI Applications for Business Success   \n",
              "37         49               Linear Algebra and Feature Selection   \n",
              "38         50                  Machine Learning with Naïve Bayes   \n",
              "39         51                          Machine Learning in Excel   \n",
              "40         52      Machine Learning with Support Vector Machines   \n",
              "41         53                              A/B Testing in Python   \n",
              "42         54  Machine Learning with Decision Trees and Rando...   \n",
              "43         55          Machine Learning with K-Nearest Neighbors   \n",
              "44         56   Machine Learning with Ridge and Lasso Regression   \n",
              "45         57                        Data-Driven Business Growth   \n",
              "\n",
              "    total_minutes_watched  average_course_rating  \n",
              "0                 50405.5               4.625000  \n",
              "1                 73659.9               4.705882  \n",
              "2                 28008.9               4.880000  \n",
              "3                 44323.8               4.903226  \n",
              "4                333265.9               4.858392  \n",
              "5                 25412.0               4.622642  \n",
              "6                 13391.9               4.357143  \n",
              "7                 38021.0               4.844444  \n",
              "8                234824.8               4.816000  \n",
              "9                 19716.3               4.705882  \n",
              "10               155164.3               4.821782  \n",
              "11                 4938.0               5.000000  \n",
              "12                20050.7               4.929825  \n",
              "13               193279.6               4.813953  \n",
              "14                12521.1               4.850000  \n",
              "15               164472.1               4.776860  \n",
              "16                42522.2               4.672131  \n",
              "17                12175.9               4.809524  \n",
              "18                 3498.7               4.807692  \n",
              "19                11573.0               4.636364  \n",
              "20                34077.8               4.595745  \n",
              "21                 8862.6               4.823529  \n",
              "22                 6539.5               4.975610  \n",
              "23                15436.7               4.769231  \n",
              "24                 8137.4               5.000000  \n",
              "25                11026.6               4.545455  \n",
              "26                25355.5               4.730000  \n",
              "27                 3908.8               4.600000  \n",
              "28                37793.2               4.809524  \n",
              "29                14894.6               4.860000  \n",
              "30                 4125.6               4.750000  \n",
              "31               102887.5               4.733766  \n",
              "32                 3261.8               4.454545  \n",
              "33                 1246.1               4.875000  \n",
              "34                10072.5               4.750000  \n",
              "35                51092.2               4.791667  \n",
              "36                 1262.3               4.250000  \n",
              "37                 3280.0               4.857143  \n",
              "38                 2454.5               4.705882  \n",
              "39                 2587.6               4.666667  \n",
              "40                 1741.7               4.818182  \n",
              "41                 3989.1               4.750000  \n",
              "42                 2431.4               4.777778  \n",
              "43                 1247.3               4.733333  \n",
              "44                  652.4                    NaN  \n",
              "45                  735.7               1.000000  "
            ]
          },
          "execution_count": 32,
          "metadata": {},
          "output_type": "execute_result"
        }
      ],
      "source": [
        "df5"
      ]
    },
    {
      "cell_type": "code",
      "execution_count": null,
      "metadata": {
        "id": "r2UZK7Xk05ot",
        "outputId": "ea116475-9a18-4f0b-8bf8-74c12d74f267"
      },
      "outputs": [
        {
          "data": {
            "text/plain": [
              "4.667995504420836"
            ]
          },
          "execution_count": 33,
          "metadata": {},
          "output_type": "execute_result"
        }
      ],
      "source": [
        "df5['average_course_rating'].mean()"
      ]
    },
    {
      "cell_type": "markdown",
      "metadata": {
        "id": "BrUnvfRQ05ot"
      },
      "source": [
        "## Minutes watched per student"
      ]
    },
    {
      "cell_type": "code",
      "execution_count": null,
      "metadata": {
        "id": "D1xQkOiQ05ot"
      },
      "outputs": [],
      "source": [
        "minutes_watched_by_student=[]\n",
        "for x in df8['student_id']:\n",
        "    minutes_watched_by_student.append(df7.loc[df7['student_id'] == x, 'minutes_watched'].sum())\n",
        "df8['minutes_watched_by_student']=minutes_watched_by_student"
      ]
    },
    {
      "cell_type": "code",
      "execution_count": null,
      "metadata": {
        "id": "d9XMKgzC05ot",
        "outputId": "2319cde4-7b21-4f2b-e21b-250c686c8a3b"
      },
      "outputs": [
        {
          "data": {
            "text/plain": [
              "<matplotlib.axes._subplots.AxesSubplot at 0x2745b289ec8>"
            ]
          },
          "execution_count": 35,
          "metadata": {},
          "output_type": "execute_result"
        },
        {
          "data": {
            "image/png": "[encoded data removed]",
            "text/plain": [
              "<Figure size 432x288 with 1 Axes>"
            ]
          },
          "metadata": {
            "needs_background": "light"
          },
          "output_type": "display_data"
        }
      ],
      "source": [
        "sns.kdeplot(data=df8, x=\"minutes_watched_by_student\",color='c')"
      ]
    },
    {
      "cell_type": "markdown",
      "metadata": {
        "id": "8M4t7K5O05ot"
      },
      "source": [
        "## Student's engagement in Q&A"
      ]
    },
    {
      "cell_type": "code",
      "execution_count": null,
      "metadata": {
        "id": "O4onuWP505ot"
      },
      "outputs": [],
      "source": [
        "df9['counter']=1\n",
        "QA=[]\n",
        "for x in df8['student_id']:\n",
        "    QA.append(df9.loc[df9['student_id'] == x, 'counter'].sum())\n",
        "df8['questions_asked_by_student']=QA"
      ]
    },
    {
      "cell_type": "code",
      "execution_count": null,
      "metadata": {
        "id": "7akdjmWE05ot",
        "outputId": "a81ff4ab-eca4-437a-cec6-150b23627c69"
      },
      "outputs": [
        {
          "data": {
            "text/plain": [
              "<matplotlib.axes._subplots.AxesSubplot at 0x2745bda34c8>"
            ]
          },
          "execution_count": 37,
          "metadata": {},
          "output_type": "execute_result"
        },
        {
          "data": {
            "image/png": "[encoded data removed]",
            "text/plain": [
              "<Figure size 432x288 with 1 Axes>"
            ]
          },
          "metadata": {
            "needs_background": "light"
          },
          "output_type": "display_data"
        }
      ],
      "source": [
        "sns.kdeplot(data=df8, x=\"questions_asked_by_student\",color='c')"
      ]
    },
    {
      "cell_type": "markdown",
      "metadata": {
        "id": "W_V77YeU05ou"
      },
      "source": [
        "## Exam result's"
      ]
    },
    {
      "cell_type": "code",
      "execution_count": null,
      "metadata": {
        "id": "pKfKAmHn05ou"
      },
      "outputs": [],
      "source": [
        "exam_res=[]\n",
        "for x in df8['student_id']:\n",
        "    exam_res.append(df11.loc[df11['student_id'] == x, 'exam_result'].mean())\n",
        "df8['average_exam_result']=exam_res"
      ]
    },
    {
      "cell_type": "code",
      "execution_count": null,
      "metadata": {
        "id": "H0E4p2YQ05ou",
        "outputId": "a8f2555f-14aa-483a-fcf2-ba568cea779a"
      },
      "outputs": [
        {
          "data": {
            "text/plain": [
              "<matplotlib.axes._subplots.AxesSubplot at 0x2745bf75e08>"
            ]
          },
          "execution_count": 39,
          "metadata": {},
          "output_type": "execute_result"
        },
        {
          "data": {
            "image/png": "[encoded data removed]",
            "text/plain": [
              "<Figure size 432x288 with 1 Axes>"
            ]
          },
          "metadata": {
            "needs_background": "light"
          },
          "output_type": "display_data"
        }
      ],
      "source": [
        "sns.kdeplot(data=df8, x=\"average_exam_result\",color='c')"
      ]
    },
    {
      "cell_type": "markdown",
      "metadata": {
        "id": "EDALzMcB05ou"
      },
      "source": [
        "# Platform Gamification"
      ]
    },
    {
      "cell_type": "markdown",
      "metadata": {
        "id": "NaSfLsMb05ou"
      },
      "source": [
        "### 365 Data Science recently updated the platform to a gamified version, where you can earn coins by achieving certain tasks like passing an exam, watching all lessons in a course, etc. , But how did this update affect the engagement rate of students, are they more engaged with the platform? , a good way to know this is by running an A/B test, where we take a sample of students who engaged after the update and a sample of students who engaged before the update, and see if there’s a significant difference in engagement rate or not."
      ]
    },
    {
      "cell_type": "code",
      "execution_count": null,
      "metadata": {
        "id": "-5PrhwNB05ov"
      },
      "outputs": [],
      "source": [
        "# Sample of studnet's engaged after the update\n",
        "bb = df8.loc[(df8['month'] >= 9) &\n",
        "              (df8['day'] >= 16)]\n",
        "b=bb.sample(1600)"
      ]
    },
    {
      "cell_type": "code",
      "execution_count": null,
      "metadata": {
        "id": "f0PAgJlR05ov",
        "outputId": "da314825-8137-4bef-f92d-b03f1e160858"
      },
      "outputs": [
        {
          "data": {
            "text/html": [
              "<div>\n",
              "<style scoped>\n",
              "    .dataframe tbody tr th:only-of-type {\n",
              "        vertical-align: middle;\n",
              "    }\n",
              "\n",
              "    .dataframe tbody tr th {\n",
              "        vertical-align: top;\n",
              "    }\n",
              "\n",
              "    .dataframe thead th {\n",
              "        text-align: right;\n",
              "    }\n",
              "</style>\n",
              "<table border=\"1\" class=\"dataframe\">\n",
              "  <thead>\n",
              "    <tr style=\"text-align: right;\">\n",
              "      <th></th>\n",
              "      <th>student_id</th>\n",
              "      <th>date_registered</th>\n",
              "      <th>Paid</th>\n",
              "      <th>type</th>\n",
              "      <th>date_purchased</th>\n",
              "      <th>engaged</th>\n",
              "      <th>number_of_engagments</th>\n",
              "      <th>student_country</th>\n",
              "      <th>month</th>\n",
              "      <th>day</th>\n",
              "      <th>minutes_watched_by_student</th>\n",
              "      <th>questions_asked_by_student</th>\n",
              "      <th>average_exam_result</th>\n",
              "    </tr>\n",
              "  </thead>\n",
              "  <tbody>\n",
              "    <tr>\n",
              "      <th>32100</th>\n",
              "      <td>292056</td>\n",
              "      <td>2022-09-25</td>\n",
              "      <td>Free</td>\n",
              "      <td>NaN</td>\n",
              "      <td>NaN</td>\n",
              "      <td>0</td>\n",
              "      <td>0</td>\n",
              "      <td>Brazil</td>\n",
              "      <td>9</td>\n",
              "      <td>25</td>\n",
              "      <td>0.0</td>\n",
              "      <td>0</td>\n",
              "      <td>NaN</td>\n",
              "    </tr>\n",
              "    <tr>\n",
              "      <th>31433</th>\n",
              "      <td>291225</td>\n",
              "      <td>2022-09-18</td>\n",
              "      <td>Free</td>\n",
              "      <td>NaN</td>\n",
              "      <td>NaN</td>\n",
              "      <td>1</td>\n",
              "      <td>1</td>\n",
              "      <td>Egypt</td>\n",
              "      <td>9</td>\n",
              "      <td>18</td>\n",
              "      <td>0.3</td>\n",
              "      <td>0</td>\n",
              "      <td>NaN</td>\n",
              "    </tr>\n",
              "    <tr>\n",
              "      <th>31876</th>\n",
              "      <td>291769</td>\n",
              "      <td>2022-09-23</td>\n",
              "      <td>Paid</td>\n",
              "      <td>Annual</td>\n",
              "      <td>2022-09-23</td>\n",
              "      <td>1</td>\n",
              "      <td>28</td>\n",
              "      <td>Malaysia</td>\n",
              "      <td>9</td>\n",
              "      <td>23</td>\n",
              "      <td>2487.9</td>\n",
              "      <td>1</td>\n",
              "      <td>87.617647</td>\n",
              "    </tr>\n",
              "    <tr>\n",
              "      <th>32234</th>\n",
              "      <td>292352</td>\n",
              "      <td>2022-09-27</td>\n",
              "      <td>Free</td>\n",
              "      <td>NaN</td>\n",
              "      <td>NaN</td>\n",
              "      <td>1</td>\n",
              "      <td>1</td>\n",
              "      <td>Hong Kong</td>\n",
              "      <td>9</td>\n",
              "      <td>27</td>\n",
              "      <td>1.4</td>\n",
              "      <td>0</td>\n",
              "      <td>NaN</td>\n",
              "    </tr>\n",
              "    <tr>\n",
              "      <th>32295</th>\n",
              "      <td>292425</td>\n",
              "      <td>2022-09-28</td>\n",
              "      <td>Free</td>\n",
              "      <td>NaN</td>\n",
              "      <td>NaN</td>\n",
              "      <td>1</td>\n",
              "      <td>1</td>\n",
              "      <td>Egypt</td>\n",
              "      <td>9</td>\n",
              "      <td>28</td>\n",
              "      <td>0.1</td>\n",
              "      <td>0</td>\n",
              "      <td>NaN</td>\n",
              "    </tr>\n",
              "    <tr>\n",
              "      <th>...</th>\n",
              "      <td>...</td>\n",
              "      <td>...</td>\n",
              "      <td>...</td>\n",
              "      <td>...</td>\n",
              "      <td>...</td>\n",
              "      <td>...</td>\n",
              "      <td>...</td>\n",
              "      <td>...</td>\n",
              "      <td>...</td>\n",
              "      <td>...</td>\n",
              "      <td>...</td>\n",
              "      <td>...</td>\n",
              "      <td>...</td>\n",
              "    </tr>\n",
              "    <tr>\n",
              "      <th>35020</th>\n",
              "      <td>295293</td>\n",
              "      <td>2022-10-19</td>\n",
              "      <td>Free</td>\n",
              "      <td>NaN</td>\n",
              "      <td>NaN</td>\n",
              "      <td>1</td>\n",
              "      <td>1</td>\n",
              "      <td>India</td>\n",
              "      <td>10</td>\n",
              "      <td>19</td>\n",
              "      <td>10.8</td>\n",
              "      <td>0</td>\n",
              "      <td>NaN</td>\n",
              "    </tr>\n",
              "    <tr>\n",
              "      <th>31425</th>\n",
              "      <td>291217</td>\n",
              "      <td>2022-09-18</td>\n",
              "      <td>Free</td>\n",
              "      <td>NaN</td>\n",
              "      <td>NaN</td>\n",
              "      <td>1</td>\n",
              "      <td>2</td>\n",
              "      <td>Spain</td>\n",
              "      <td>9</td>\n",
              "      <td>18</td>\n",
              "      <td>3.7</td>\n",
              "      <td>0</td>\n",
              "      <td>NaN</td>\n",
              "    </tr>\n",
              "    <tr>\n",
              "      <th>31129</th>\n",
              "      <td>290917</td>\n",
              "      <td>2022-09-16</td>\n",
              "      <td>Free</td>\n",
              "      <td>NaN</td>\n",
              "      <td>NaN</td>\n",
              "      <td>0</td>\n",
              "      <td>0</td>\n",
              "      <td>Indonesia</td>\n",
              "      <td>9</td>\n",
              "      <td>16</td>\n",
              "      <td>0.0</td>\n",
              "      <td>0</td>\n",
              "      <td>NaN</td>\n",
              "    </tr>\n",
              "    <tr>\n",
              "      <th>35023</th>\n",
              "      <td>295296</td>\n",
              "      <td>2022-10-19</td>\n",
              "      <td>Free</td>\n",
              "      <td>NaN</td>\n",
              "      <td>NaN</td>\n",
              "      <td>1</td>\n",
              "      <td>1</td>\n",
              "      <td>India</td>\n",
              "      <td>10</td>\n",
              "      <td>19</td>\n",
              "      <td>0.3</td>\n",
              "      <td>0</td>\n",
              "      <td>NaN</td>\n",
              "    </tr>\n",
              "    <tr>\n",
              "      <th>32557</th>\n",
              "      <td>292726</td>\n",
              "      <td>2022-09-30</td>\n",
              "      <td>Free</td>\n",
              "      <td>NaN</td>\n",
              "      <td>NaN</td>\n",
              "      <td>0</td>\n",
              "      <td>0</td>\n",
              "      <td>Ireland</td>\n",
              "      <td>9</td>\n",
              "      <td>30</td>\n",
              "      <td>0.0</td>\n",
              "      <td>0</td>\n",
              "      <td>NaN</td>\n",
              "    </tr>\n",
              "  </tbody>\n",
              "</table>\n",
              "<p>1600 rows × 13 columns</p>\n",
              "</div>"
            ],
            "text/plain": [
              "       student_id date_registered  Paid    type date_purchased  engaged  \\\n",
              "32100      292056      2022-09-25  Free     NaN            NaN        0   \n",
              "31433      291225      2022-09-18  Free     NaN            NaN        1   \n",
              "31876      291769      2022-09-23  Paid  Annual     2022-09-23        1   \n",
              "32234      292352      2022-09-27  Free     NaN            NaN        1   \n",
              "32295      292425      2022-09-28  Free     NaN            NaN        1   \n",
              "...           ...             ...   ...     ...            ...      ...   \n",
              "35020      295293      2022-10-19  Free     NaN            NaN        1   \n",
              "31425      291217      2022-09-18  Free     NaN            NaN        1   \n",
              "31129      290917      2022-09-16  Free     NaN            NaN        0   \n",
              "35023      295296      2022-10-19  Free     NaN            NaN        1   \n",
              "32557      292726      2022-09-30  Free     NaN            NaN        0   \n",
              "\n",
              "       number_of_engagments student_country  month  day  \\\n",
              "32100                     0          Brazil      9   25   \n",
              "31433                     1           Egypt      9   18   \n",
              "31876                    28        Malaysia      9   23   \n",
              "32234                     1       Hong Kong      9   27   \n",
              "32295                     1           Egypt      9   28   \n",
              "...                     ...             ...    ...  ...   \n",
              "35020                     1           India     10   19   \n",
              "31425                     2           Spain      9   18   \n",
              "31129                     0       Indonesia      9   16   \n",
              "35023                     1           India     10   19   \n",
              "32557                     0         Ireland      9   30   \n",
              "\n",
              "       minutes_watched_by_student  questions_asked_by_student  \\\n",
              "32100                         0.0                           0   \n",
              "31433                         0.3                           0   \n",
              "31876                      2487.9                           1   \n",
              "32234                         1.4                           0   \n",
              "32295                         0.1                           0   \n",
              "...                           ...                         ...   \n",
              "35020                        10.8                           0   \n",
              "31425                         3.7                           0   \n",
              "31129                         0.0                           0   \n",
              "35023                         0.3                           0   \n",
              "32557                         0.0                           0   \n",
              "\n",
              "       average_exam_result  \n",
              "32100                  NaN  \n",
              "31433                  NaN  \n",
              "31876            87.617647  \n",
              "32234                  NaN  \n",
              "32295                  NaN  \n",
              "...                    ...  \n",
              "35020                  NaN  \n",
              "31425                  NaN  \n",
              "31129                  NaN  \n",
              "35023                  NaN  \n",
              "32557                  NaN  \n",
              "\n",
              "[1600 rows x 13 columns]"
            ]
          },
          "execution_count": 41,
          "metadata": {},
          "output_type": "execute_result"
        }
      ],
      "source": [
        "b"
      ]
    },
    {
      "cell_type": "code",
      "execution_count": null,
      "metadata": {
        "id": "6HZW2ZL005ov"
      },
      "outputs": [],
      "source": [
        "# Sample of studnet's engaged before the update\n",
        "aa = df8.loc[(df8['date_registered'] < '2022-09-16')]\n",
        "a=aa.sample(1600)"
      ]
    },
    {
      "cell_type": "code",
      "execution_count": null,
      "metadata": {
        "id": "SKKQIVRM05ov"
      },
      "outputs": [],
      "source": [
        "# classifying data to 0LD and New Group\n",
        "a['group']='Control'\n",
        "b['group']='Treatment'"
      ]
    },
    {
      "cell_type": "code",
      "execution_count": null,
      "metadata": {
        "id": "v-0V8xPN05ov"
      },
      "outputs": [],
      "source": [
        "ab_test = pd.concat([a, b], axis=0)"
      ]
    },
    {
      "cell_type": "code",
      "execution_count": null,
      "metadata": {
        "id": "5ySiL_eN05ow",
        "outputId": "1bf638c4-ebcf-4afe-e30a-8c952fd6ef7d"
      },
      "outputs": [
        {
          "data": {
            "text/html": [
              "<div>\n",
              "<style scoped>\n",
              "    .dataframe tbody tr th:only-of-type {\n",
              "        vertical-align: middle;\n",
              "    }\n",
              "\n",
              "    .dataframe tbody tr th {\n",
              "        vertical-align: top;\n",
              "    }\n",
              "\n",
              "    .dataframe thead th {\n",
              "        text-align: right;\n",
              "    }\n",
              "</style>\n",
              "<table border=\"1\" class=\"dataframe\">\n",
              "  <thead>\n",
              "    <tr style=\"text-align: right;\">\n",
              "      <th></th>\n",
              "      <th>student_id</th>\n",
              "      <th>date_registered</th>\n",
              "      <th>Paid</th>\n",
              "      <th>type</th>\n",
              "      <th>date_purchased</th>\n",
              "      <th>engaged</th>\n",
              "      <th>number_of_engagments</th>\n",
              "      <th>student_country</th>\n",
              "      <th>month</th>\n",
              "      <th>day</th>\n",
              "      <th>minutes_watched_by_student</th>\n",
              "      <th>questions_asked_by_student</th>\n",
              "      <th>average_exam_result</th>\n",
              "      <th>group</th>\n",
              "    </tr>\n",
              "  </thead>\n",
              "  <tbody>\n",
              "    <tr>\n",
              "      <th>3568</th>\n",
              "      <td>262455</td>\n",
              "      <td>2022-02-03</td>\n",
              "      <td>Free</td>\n",
              "      <td>NaN</td>\n",
              "      <td>NaN</td>\n",
              "      <td>0</td>\n",
              "      <td>0</td>\n",
              "      <td>Mexico</td>\n",
              "      <td>2</td>\n",
              "      <td>3</td>\n",
              "      <td>0.0</td>\n",
              "      <td>0</td>\n",
              "      <td>NaN</td>\n",
              "      <td>Control</td>\n",
              "    </tr>\n",
              "    <tr>\n",
              "      <th>19371</th>\n",
              "      <td>278823</td>\n",
              "      <td>2022-06-21</td>\n",
              "      <td>Free</td>\n",
              "      <td>NaN</td>\n",
              "      <td>NaN</td>\n",
              "      <td>1</td>\n",
              "      <td>2</td>\n",
              "      <td>Pakistan</td>\n",
              "      <td>6</td>\n",
              "      <td>21</td>\n",
              "      <td>131.7</td>\n",
              "      <td>0</td>\n",
              "      <td>94.333333</td>\n",
              "      <td>Control</td>\n",
              "    </tr>\n",
              "    <tr>\n",
              "      <th>29619</th>\n",
              "      <td>289357</td>\n",
              "      <td>2022-09-04</td>\n",
              "      <td>Free</td>\n",
              "      <td>NaN</td>\n",
              "      <td>NaN</td>\n",
              "      <td>0</td>\n",
              "      <td>0</td>\n",
              "      <td>India</td>\n",
              "      <td>9</td>\n",
              "      <td>4</td>\n",
              "      <td>0.0</td>\n",
              "      <td>0</td>\n",
              "      <td>NaN</td>\n",
              "      <td>Control</td>\n",
              "    </tr>\n",
              "    <tr>\n",
              "      <th>29244</th>\n",
              "      <td>288973</td>\n",
              "      <td>2022-09-01</td>\n",
              "      <td>Free</td>\n",
              "      <td>NaN</td>\n",
              "      <td>NaN</td>\n",
              "      <td>0</td>\n",
              "      <td>0</td>\n",
              "      <td>Bangladesh</td>\n",
              "      <td>9</td>\n",
              "      <td>1</td>\n",
              "      <td>0.0</td>\n",
              "      <td>0</td>\n",
              "      <td>NaN</td>\n",
              "      <td>Control</td>\n",
              "    </tr>\n",
              "    <tr>\n",
              "      <th>6286</th>\n",
              "      <td>265239</td>\n",
              "      <td>2022-02-27</td>\n",
              "      <td>Free</td>\n",
              "      <td>NaN</td>\n",
              "      <td>NaN</td>\n",
              "      <td>0</td>\n",
              "      <td>0</td>\n",
              "      <td>India</td>\n",
              "      <td>2</td>\n",
              "      <td>27</td>\n",
              "      <td>0.0</td>\n",
              "      <td>0</td>\n",
              "      <td>NaN</td>\n",
              "      <td>Control</td>\n",
              "    </tr>\n",
              "    <tr>\n",
              "      <th>...</th>\n",
              "      <td>...</td>\n",
              "      <td>...</td>\n",
              "      <td>...</td>\n",
              "      <td>...</td>\n",
              "      <td>...</td>\n",
              "      <td>...</td>\n",
              "      <td>...</td>\n",
              "      <td>...</td>\n",
              "      <td>...</td>\n",
              "      <td>...</td>\n",
              "      <td>...</td>\n",
              "      <td>...</td>\n",
              "      <td>...</td>\n",
              "      <td>...</td>\n",
              "    </tr>\n",
              "    <tr>\n",
              "      <th>35020</th>\n",
              "      <td>295293</td>\n",
              "      <td>2022-10-19</td>\n",
              "      <td>Free</td>\n",
              "      <td>NaN</td>\n",
              "      <td>NaN</td>\n",
              "      <td>1</td>\n",
              "      <td>1</td>\n",
              "      <td>India</td>\n",
              "      <td>10</td>\n",
              "      <td>19</td>\n",
              "      <td>10.8</td>\n",
              "      <td>0</td>\n",
              "      <td>NaN</td>\n",
              "      <td>Treatment</td>\n",
              "    </tr>\n",
              "    <tr>\n",
              "      <th>31425</th>\n",
              "      <td>291217</td>\n",
              "      <td>2022-09-18</td>\n",
              "      <td>Free</td>\n",
              "      <td>NaN</td>\n",
              "      <td>NaN</td>\n",
              "      <td>1</td>\n",
              "      <td>2</td>\n",
              "      <td>Spain</td>\n",
              "      <td>9</td>\n",
              "      <td>18</td>\n",
              "      <td>3.7</td>\n",
              "      <td>0</td>\n",
              "      <td>NaN</td>\n",
              "      <td>Treatment</td>\n",
              "    </tr>\n",
              "    <tr>\n",
              "      <th>31129</th>\n",
              "      <td>290917</td>\n",
              "      <td>2022-09-16</td>\n",
              "      <td>Free</td>\n",
              "      <td>NaN</td>\n",
              "      <td>NaN</td>\n",
              "      <td>0</td>\n",
              "      <td>0</td>\n",
              "      <td>Indonesia</td>\n",
              "      <td>9</td>\n",
              "      <td>16</td>\n",
              "      <td>0.0</td>\n",
              "      <td>0</td>\n",
              "      <td>NaN</td>\n",
              "      <td>Treatment</td>\n",
              "    </tr>\n",
              "    <tr>\n",
              "      <th>35023</th>\n",
              "      <td>295296</td>\n",
              "      <td>2022-10-19</td>\n",
              "      <td>Free</td>\n",
              "      <td>NaN</td>\n",
              "      <td>NaN</td>\n",
              "      <td>1</td>\n",
              "      <td>1</td>\n",
              "      <td>India</td>\n",
              "      <td>10</td>\n",
              "      <td>19</td>\n",
              "      <td>0.3</td>\n",
              "      <td>0</td>\n",
              "      <td>NaN</td>\n",
              "      <td>Treatment</td>\n",
              "    </tr>\n",
              "    <tr>\n",
              "      <th>32557</th>\n",
              "      <td>292726</td>\n",
              "      <td>2022-09-30</td>\n",
              "      <td>Free</td>\n",
              "      <td>NaN</td>\n",
              "      <td>NaN</td>\n",
              "      <td>0</td>\n",
              "      <td>0</td>\n",
              "      <td>Ireland</td>\n",
              "      <td>9</td>\n",
              "      <td>30</td>\n",
              "      <td>0.0</td>\n",
              "      <td>0</td>\n",
              "      <td>NaN</td>\n",
              "      <td>Treatment</td>\n",
              "    </tr>\n",
              "  </tbody>\n",
              "</table>\n",
              "<p>3200 rows × 14 columns</p>\n",
              "</div>"
            ],
            "text/plain": [
              "       student_id date_registered  Paid type date_purchased  engaged  \\\n",
              "3568       262455      2022-02-03  Free  NaN            NaN        0   \n",
              "19371      278823      2022-06-21  Free  NaN            NaN        1   \n",
              "29619      289357      2022-09-04  Free  NaN            NaN        0   \n",
              "29244      288973      2022-09-01  Free  NaN            NaN        0   \n",
              "6286       265239      2022-02-27  Free  NaN            NaN        0   \n",
              "...           ...             ...   ...  ...            ...      ...   \n",
              "35020      295293      2022-10-19  Free  NaN            NaN        1   \n",
              "31425      291217      2022-09-18  Free  NaN            NaN        1   \n",
              "31129      290917      2022-09-16  Free  NaN            NaN        0   \n",
              "35023      295296      2022-10-19  Free  NaN            NaN        1   \n",
              "32557      292726      2022-09-30  Free  NaN            NaN        0   \n",
              "\n",
              "       number_of_engagments student_country  month  day  \\\n",
              "3568                      0          Mexico      2    3   \n",
              "19371                     2        Pakistan      6   21   \n",
              "29619                     0           India      9    4   \n",
              "29244                     0      Bangladesh      9    1   \n",
              "6286                      0           India      2   27   \n",
              "...                     ...             ...    ...  ...   \n",
              "35020                     1           India     10   19   \n",
              "31425                     2           Spain      9   18   \n",
              "31129                     0       Indonesia      9   16   \n",
              "35023                     1           India     10   19   \n",
              "32557                     0         Ireland      9   30   \n",
              "\n",
              "       minutes_watched_by_student  questions_asked_by_student  \\\n",
              "3568                          0.0                           0   \n",
              "19371                       131.7                           0   \n",
              "29619                         0.0                           0   \n",
              "29244                         0.0                           0   \n",
              "6286                          0.0                           0   \n",
              "...                           ...                         ...   \n",
              "35020                        10.8                           0   \n",
              "31425                         3.7                           0   \n",
              "31129                         0.0                           0   \n",
              "35023                         0.3                           0   \n",
              "32557                         0.0                           0   \n",
              "\n",
              "       average_exam_result      group  \n",
              "3568                   NaN    Control  \n",
              "19371            94.333333    Control  \n",
              "29619                  NaN    Control  \n",
              "29244                  NaN    Control  \n",
              "6286                   NaN    Control  \n",
              "...                    ...        ...  \n",
              "35020                  NaN  Treatment  \n",
              "31425                  NaN  Treatment  \n",
              "31129                  NaN  Treatment  \n",
              "35023                  NaN  Treatment  \n",
              "32557                  NaN  Treatment  \n",
              "\n",
              "[3200 rows x 14 columns]"
            ]
          },
          "execution_count": 45,
          "metadata": {},
          "output_type": "execute_result"
        }
      ],
      "source": [
        "ab_test"
      ]
    },
    {
      "cell_type": "code",
      "execution_count": null,
      "metadata": {
        "id": "DTEsR-1Z05ow",
        "outputId": "20a58838-1d3f-42a3-f830-0401aa7d7895"
      },
      "outputs": [
        {
          "data": {
            "image/png": "[encoded data removed]",
            "text/plain": [
              "<Figure size 432x288 with 1 Axes>"
            ]
          },
          "metadata": {
            "needs_background": "light"
          },
          "output_type": "display_data"
        },
        {
          "data": {
            "text/html": [
              "<div>\n",
              "<style scoped>\n",
              "    .dataframe tbody tr th:only-of-type {\n",
              "        vertical-align: middle;\n",
              "    }\n",
              "\n",
              "    .dataframe tbody tr th {\n",
              "        vertical-align: top;\n",
              "    }\n",
              "\n",
              "    .dataframe thead th {\n",
              "        text-align: right;\n",
              "    }\n",
              "</style>\n",
              "<table border=\"1\" class=\"dataframe\">\n",
              "  <thead>\n",
              "    <tr style=\"text-align: right;\">\n",
              "      <th></th>\n",
              "      <th>engaged</th>\n",
              "    </tr>\n",
              "  </thead>\n",
              "  <tbody>\n",
              "    <tr>\n",
              "      <th>count</th>\n",
              "      <td>3200.000000</td>\n",
              "    </tr>\n",
              "    <tr>\n",
              "      <th>mean</th>\n",
              "      <td>0.574063</td>\n",
              "    </tr>\n",
              "    <tr>\n",
              "      <th>sum</th>\n",
              "      <td>1837.000000</td>\n",
              "    </tr>\n",
              "  </tbody>\n",
              "</table>\n",
              "</div>"
            ],
            "text/plain": [
              "           engaged\n",
              "count  3200.000000\n",
              "mean      0.574063\n",
              "sum    1837.000000"
            ]
          },
          "execution_count": 46,
          "metadata": {},
          "output_type": "execute_result"
        }
      ],
      "source": [
        "# Plotting Engagment\n",
        "ab_test['engaged'].plot.kde()\n",
        "plt.legend()\n",
        "plt.show()\n",
        "\n",
        "results = ab_test.agg({'engaged':['count', 'mean', 'sum']})\n",
        "results"
      ]
    },
    {
      "cell_type": "code",
      "execution_count": null,
      "metadata": {
        "id": "KwaPyt3U05ow",
        "outputId": "67e5f641-3c96-44f7-882f-aff590322c32"
      },
      "outputs": [
        {
          "name": "stderr",
          "output_type": "stream",
          "text": [
            "C:\\Users\\101\\anaconda3\\lib\\site-packages\\numpy\\core\\_methods.py:217: RuntimeWarning: Degrees of freedom <= 0 for slice\n",
            "  keepdims=keepdims)\n",
            "C:\\Users\\101\\anaconda3\\lib\\site-packages\\numpy\\core\\_methods.py:186: RuntimeWarning: invalid value encountered in true_divide\n",
            "  arrmean, rcount, out=arrmean, casting='unsafe', subok=False)\n",
            "C:\\Users\\101\\anaconda3\\lib\\site-packages\\numpy\\core\\_methods.py:209: RuntimeWarning: invalid value encountered in double_scalars\n",
            "  ret = ret.dtype.type(ret / rcount)\n"
          ]
        },
        {
          "data": {
            "text/html": [
              "<style  type=\"text/css\" >\n",
              "</style><table id=\"T_8feaa628_6b5b_11ed_b9d9_2cf05d77a5e2\" ><thead>    <tr>        <th class=\"blank level0\" ></th>        <th class=\"col_heading level0 col0\" >engagment_rate</th>        <th class=\"col_heading level0 col1\" >std_deviation</th>        <th class=\"col_heading level0 col2\" >std_error</th>    </tr>    <tr>        <th class=\"index_name level0\" >group</th>        <th class=\"blank\" ></th>        <th class=\"blank\" ></th>        <th class=\"blank\" ></th>    </tr></thead><tbody>\n",
              "                <tr>\n",
              "                        <th id=\"T_8feaa628_6b5b_11ed_b9d9_2cf05d77a5e2level0_row0\" class=\"row_heading level0 row0\" >Control</th>\n",
              "                        <td id=\"T_8feaa628_6b5b_11ed_b9d9_2cf05d77a5e2row0_col0\" class=\"data row0 col0\" >0.484</td>\n",
              "                        <td id=\"T_8feaa628_6b5b_11ed_b9d9_2cf05d77a5e2row0_col1\" class=\"data row0 col1\" >0.500</td>\n",
              "                        <td id=\"T_8feaa628_6b5b_11ed_b9d9_2cf05d77a5e2row0_col2\" class=\"data row0 col2\" >0.012</td>\n",
              "            </tr>\n",
              "            <tr>\n",
              "                        <th id=\"T_8feaa628_6b5b_11ed_b9d9_2cf05d77a5e2level0_row1\" class=\"row_heading level0 row1\" >Treatment</th>\n",
              "                        <td id=\"T_8feaa628_6b5b_11ed_b9d9_2cf05d77a5e2row1_col0\" class=\"data row1 col0\" >0.664</td>\n",
              "                        <td id=\"T_8feaa628_6b5b_11ed_b9d9_2cf05d77a5e2row1_col1\" class=\"data row1 col1\" >0.472</td>\n",
              "                        <td id=\"T_8feaa628_6b5b_11ed_b9d9_2cf05d77a5e2row1_col2\" class=\"data row1 col2\" >0.012</td>\n",
              "            </tr>\n",
              "    </tbody></table>"
            ],
            "text/plain": [
              "<pandas.io.formats.style.Styler at 0x2745bfe2b08>"
            ]
          },
          "execution_count": 47,
          "metadata": {},
          "output_type": "execute_result"
        }
      ],
      "source": [
        "# calculating engagment rate for New and Old group\n",
        "engagment_rates = ab_test.groupby('group')['engaged']\n",
        "\n",
        "std_p = lambda x: np.std(x, ddof=0)              # Std. deviation of the proportion\n",
        "se_p = lambda x: stats.sem(x, ddof=0)            # Std. error of the proportion (std / sqrt(n))\n",
        "\n",
        "engagment_rates = engagment_rates.agg([np.mean, std_p, se_p])\n",
        "engagment_rates.columns = ['engagment_rate', 'std_deviation', 'std_error']\n",
        "\n",
        "\n",
        "engagment_rates.style.format('{:.3f}')"
      ]
    },
    {
      "cell_type": "code",
      "execution_count": null,
      "metadata": {
        "id": "Nm1dGMbI05ow",
        "outputId": "a8aea944-fdc7-4837-8cda-6c2cd8c8423e"
      },
      "outputs": [
        {
          "name": "stdout",
          "output_type": "stream",
          "text": [
            "z statistic: -10.33\n",
            "p-value: 0.000\n",
            "ci 95% for control group: [0.459, 0.508]\n",
            "ci 95% for treatment group: [0.641, 0.688]\n"
          ]
        }
      ],
      "source": [
        "# running the test \n",
        "control_results = ab_test[ab_test['group'] == 'Control']['engaged']\n",
        "treatment_results = ab_test[ab_test['group'] == 'Treatment']['engaged']\n",
        "n_con = control_results.count()\n",
        "n_treat = treatment_results.count()\n",
        "successes = [control_results.sum(), treatment_results.sum()]\n",
        "nobs = [n_con, n_treat]\n",
        "\n",
        "z_stat, pval = proportions_ztest(successes, nobs=nobs)\n",
        "(lower_con, lower_treat), (upper_con, upper_treat) = proportion_confint(successes, nobs=nobs, alpha=0.05)\n",
        "\n",
        "print(f'z statistic: {z_stat:.2f}')\n",
        "print(f'p-value: {pval:.3f}')\n",
        "print(f'ci 95% for control group: [{lower_con:.3f}, {upper_con:.3f}]')\n",
        "print(f'ci 95% for treatment group: [{lower_treat:.3f}, {upper_treat:.3f}]')"
      ]
    },
    {
      "cell_type": "markdown",
      "metadata": {
        "id": "M2vrXHYp05ox"
      },
      "source": [
        "## result is statistically significant: we can reject the null hypothesis and accept the alternative , 17% increase in engagement rate\n"
      ]
    }
  ],
  "metadata": {
    "celltoolbar": "Raw Cell Format",
    "kernelspec": {
      "display_name": "Python 3",
      "language": "python",
      "name": "python3"
    },
    "language_info": {
      "codemirror_mode": {
        "name": "ipython",
        "version": 3
      },
      "file_extension": ".py",
      "mimetype": "text/x-python",
      "name": "python",
      "nbconvert_exporter": "python",
      "pygments_lexer": "ipython3",
      "version": "3.7.6"
    },
    "colab": {
      "provenance": []
    }
  },
  "nbformat": 4,
  "nbformat_minor": 0
}